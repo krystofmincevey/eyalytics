{
 "cells": [
  {
   "cell_type": "markdown",
   "metadata": {},
   "source": [
    "# KPI Extraction Chain"
   ]
  },
  {
   "cell_type": "markdown",
   "metadata": {},
   "source": [
    "### Handle imports"
   ]
  },
  {
   "cell_type": "code",
   "execution_count": 51,
   "metadata": {},
   "outputs": [
    {
     "name": "stdout",
     "output_type": "stream",
     "text": [
      "/Users/jb_vandeneynde/code/jb-vde/Belfius/llm_esg_kpi/eyalytics\n"
     ]
    }
   ],
   "source": [
    "# Move to root directory\n",
    "import os\n",
    "\n",
    "notebooks_dir = 'notebooks'\n",
    "if notebooks_dir in os.path.abspath(os.curdir):\n",
    "    while not os.path.abspath(os.curdir).endswith('notebooks'):\n",
    "        print(os.path.abspath(os.curdir))\n",
    "        os.chdir('..')\n",
    "    os.chdir('..')  # to get to root\n",
    "\n",
    "print(os.path.abspath(os.curdir))"
   ]
  },
  {
   "cell_type": "code",
   "execution_count": 52,
   "metadata": {},
   "outputs": [],
   "source": [
    "import pickle\n",
    "import pinecone\n",
    "import tiktoken\n",
    "\n",
    "from langchain.document_loaders import PyPDFLoader\n",
    "from langchain.text_splitter import RecursiveCharacterTextSplitter\n",
    "from langchain.embeddings.openai import OpenAIEmbeddings\n",
    "from langchain.vectorstores import Pinecone\n",
    "\n",
    "from langchain.llms import OpenAI\n",
    "from langchain.chains.question_answering import load_qa_chain"
   ]
  },
  {
   "cell_type": "code",
   "execution_count": 53,
   "metadata": {},
   "outputs": [],
   "source": [
    "# Get API and ENV keys:\n",
    "from dotenv import load_dotenv\n",
    "\n",
    "load_dotenv()\n",
    "if not os.getenv(\"OPENAI_API_KEY\"):\n",
    "    raise KeyError(\n",
    "        \"You will need an OPENAI_API_KEY to use the LLM models in this notebook.\"\n",
    "    )"
   ]
  },
  {
   "cell_type": "markdown",
   "metadata": {},
   "source": [
    "## Text Splitting, Embedding Models, and Vector DB\n",
    "\n",
    "We'll be using OpenAI's text-embedding-ada-002 model and Pinecone's FREE vector DB. "
   ]
  },
  {
   "cell_type": "code",
   "execution_count": 54,
   "metadata": {},
   "outputs": [],
   "source": [
    "report_path = \"../data/colruyt_annualreport.pdf\"\n",
    "loader = PyPDFLoader(report_path)"
   ]
  },
  {
   "cell_type": "code",
   "execution_count": 77,
   "metadata": {},
   "outputs": [],
   "source": [
    "# model = 'gpt-3.5-turbo'  # open ai LLM model we will be using later.\n",
    "model = 'text-davinci-003'  # open ai LLM model we will be using for now.\n",
    "enc_code = tiktoken.encoding_for_model(model).name\n",
    "tokenizer = tiktoken.get_encoding(enc_code)\n",
    "\n",
    "# Determine length of input after tokenization\n",
    "def tiktoken_len(text):\n",
    "    tokens = tokenizer.encode(\n",
    "        text,\n",
    "        disallowed_special=()\n",
    "    )\n",
    "    return len(tokens)\n",
    "\n",
    "text_splitter = RecursiveCharacterTextSplitter(\n",
    "    chunk_size=500,  # in order to be able to fit 3 chunks in context window\n",
    "    chunk_overlap=0,  \n",
    "    length_function=tiktoken_len,\n",
    "    separators=[\"\\n\\n\", \"\\n\", \" \", \"\"]  # order in which splits are prioritized\n",
    ")"
   ]
  },
  {
   "cell_type": "code",
   "execution_count": 78,
   "metadata": {},
   "outputs": [],
   "source": [
    "chunks = loader.load_and_split(text_splitter)"
   ]
  },
  {
   "cell_type": "code",
   "execution_count": 79,
   "metadata": {},
   "outputs": [
    {
     "data": {
      "text/plain": [
       "572"
      ]
     },
     "execution_count": 79,
     "metadata": {},
     "output_type": "execute_result"
    }
   ],
   "source": [
    "len(chunks)"
   ]
  },
  {
   "cell_type": "code",
   "execution_count": 80,
   "metadata": {},
   "outputs": [
    {
     "data": {
      "text/plain": [
       "Document(page_content='adjust in a positive direction our outlook for the full-year \\nresults. Ultimately, our revenue for the financial year increased by \\n7,7%, to over 10,8 billion euros. The net result decreased by one \\npercentage point to 1,9% of revenue. \\nIn the coming financial year, we will maintain our increased focus \\non efficiency and continue to implement our strategic plan. \\nWe are convinced that we will emerge stronger from the current \\nperiod. We therefore continue to expand our smart ecosystem, \\nwith products and services in four areas, where a significant \\nportion of family budgets is spent. In the fields of nutrition \\nand health, in particular, we have taken major steps through \\ninvestments, participations and acquisitions. Our Jims fitness \\nchain boosted its muscle by acquiring six high-quality clubs from \\nthe Oxygen chain. We also took a shareholding in digital health \\nplatform yoboo, strong in personal counselling towards healthier \\nlifestyles. Finally, our Newpharma online pharmacy expanded its \\nstorage space to over 20.000 m², with potential for future growth. \\nAt the beginning of 2023, we concluded an agreement in principle \\nto acquire 100% of the Degrenne Distribution group, a significant \\nregional player in the French convenience store market. The \\ncompany perfectly complements our Codifrance wholesale branch \\nand will significantly strengthen our presence in France. Our retail \\nnetwork also continued to grow in Belgium and Luxembourg, with \\n13 new food stores and 22 renovations, representing 13.400 m² of \\nadditional retail space.Word from the \\nChairman \\nINTRO  |  Word from the Chairman • Who are we? • Our strategy • Our vision on sustainability • Management report • Key figures 4', metadata={'source': '../data/colruyt_annualreport.pdf', 'page': 3})"
      ]
     },
     "execution_count": 80,
     "metadata": {},
     "output_type": "execute_result"
    }
   ],
   "source": [
    "chunks[4]"
   ]
  },
  {
   "cell_type": "code",
   "execution_count": 81,
   "metadata": {},
   "outputs": [],
   "source": [
    "pinecone.init(\n",
    "    api_key=os.getenv('PINECONE_API_KEY', ''),\n",
    "    environment=os.getenv('PINECONE_ENV', '')\n",
    ")\n",
    "index_name = 'esg-kpi'"
   ]
  },
  {
   "cell_type": "code",
   "execution_count": 82,
   "metadata": {},
   "outputs": [],
   "source": [
    "# fname = \"colruyt_report\"\n",
    "# fpath = f\"./data/pinecone_db/{fname}.pkl\"\n",
    "# if os.path.exists(fpath):\n",
    "#     with open(fpath, 'rb') as f:\n",
    "#         vector_store = pickle.load(f)\n",
    "# else:\n",
    "#     # Init embedding model:\n",
    "#     embed = OpenAIEmbeddings(\n",
    "#         model='text-embedding-ada-002'\n",
    "#     )\n",
    "#     vector_store = Pinecone.from_documents(chunks, embedding=embed, index_name=index_name)\n",
    "#     with open(fpath, 'wb') as f:\n",
    "#         pickle.dump(vector_store, f)\n",
    "\n",
    "# Init embedding model:\n",
    "embed = OpenAIEmbeddings(\n",
    "    model='text-embedding-ada-002'\n",
    ")\n",
    "vector_store = Pinecone.from_documents(chunks, embedding=embed, index_name=index_name)"
   ]
  },
  {
   "cell_type": "markdown",
   "metadata": {},
   "source": [
    "## Set up QA Chain"
   ]
  },
  {
   "cell_type": "code",
   "execution_count": 83,
   "metadata": {},
   "outputs": [],
   "source": [
    "llm = OpenAI(temperature=0, model=model)\n",
    "chain = load_qa_chain(llm, chain_type=\"stuff\")"
   ]
  },
  {
   "cell_type": "code",
   "execution_count": 96,
   "metadata": {},
   "outputs": [],
   "source": [
    "query = \"Approximately how much green house gas emissions does Colruyt produce ?\"\n",
    "context_docs = vector_store.similarity_search(query)"
   ]
  },
  {
   "cell_type": "code",
   "execution_count": 97,
   "metadata": {},
   "outputs": [
    {
     "data": {
      "text/plain": [
       "[Document(page_content='Green electricity production by Virya Energy on behalf of Colruyt Group (in MWh) Calendar year 1.135.562 949.336 925.315\\nCO2 emissions avoided through our investments in green energy via our shareholding in Virya Energy (in tonnes) Calendar year 187.368 (4)156.640 (4)152.677\\nOffering renewable energy\\n# DATS 24 electric charging stations Financial year 147 232 373\\n# Colruyt Group sites with charging stations Financial year 135 159 230\\n# public DATS 24 hydrogen filling stations Financial year 1 1 3\\n(1)  These indicators relate to the entire Colruyt Group, unless stated otherwise.\\n(2)  Compared to previous years, the scope of this indicator has been expanded to include the consolidated scope of the entire Colruyt Group,  \\nin line with our climate reporting. This year we also report separately for Colruyt Group in Belgium and Luxembourg.\\n(3)  To avoid double counting, the own produced and consumed electricity and heat from the co-generation installations are  \\nincluded only under the natural gas consumption to operate the CHP installations.\\n(4)  After an update of the emission factors used, the historic data were also recalculated.SDG 7\\n182', metadata={'page': 181.0, 'source': '../data/colruyt_annualreport.pdf'}),\n",
       " Document(page_content='CO2 emissions avoided through our investments in green energy via our shareholding in Virya Energy (in tonnes) Calendar year 187.368 (4)156.640 (4)152.677\\nOffering renewable energy\\n# DATS 24 electric charging stations Financial year 147 232 373\\n# Colruyt Group sites with charging stations Financial year 135 159 230\\n# public DATS 24 hydrogen filling stations Financial year 1 1 3\\n(1)  These indicators relate to the entire Colruyt Group, unless stated otherwise.\\n(2)  Compared to previous years, the scope of this indicator has been expanded to include the consolidated scope of the entire Colruyt Group,  \\nin line with our climate reporting. This year we also report separately for Colruyt Group in Belgium and Luxembourg.\\n(3)  To avoid double counting, the own produced and consumed electricity and heat from the co-generation installations are  \\nincluded only under the natural gas consumption to operate the CHP installations.\\n(4)  After an update of the emission factors used, the historic data were also recalculated.SDG 7\\n182', metadata={'page': 181.0, 'source': '../data/colruyt_annualreport.pdf'}),\n",
       " Document(page_content='175\\nHeating\\nIn 2022, we emitted 16% less greenhouse gases for heating than the previous year. This sharp drop is due to above-\\naverage outdoor temperatures and the conservation measures introduced because of the energy crisis. For example, \\nColruyt Lowest Prices reintroduced the insulating flaps in the fresh food market and we turned down the heating in our \\nbuildings. At the same time, we continue to renovate and add further insulation to our buildings, turning them into low-\\nenergy stores. In addition, 123 stores are now equipped with a heat recovery system. 89 stores do not even use fossil \\nfuels at all.\\nSUSTAINABILITY  |  SDG 2 • SDG 3 • SDG 6 • SDG 7 • SDG 8 • SDG 12 • SDG 13 • Sustainability indicators • EU Taxonomy SUSTAINABILITY  |  SDG 2 • SDG 3 • SDG 6 • SDG 7 • SDG 8 • SDG 12 • SDG 13 • Sustainability indicators • EU Taxonomy7599128158193\\n2018 2019 2020 2021 2022Stores with refrigeration systems  \\nrunning on natural refrigerants\\n12356488123\\n2018 2019 2020 2021 2022Stores with heat recovery5,19%4,09% 3,96% 3,81% 3,97%\\n2018 2019 2020 2021 2022Refrigerant leaks (%)\\n6.600\\n1426.600\\n2.0007.040\\n2.0497.176\\n2.4117.278\\n2.611\\n2018 2019 2020 2021 2022Liquid ice containers\\nfor fresh products\\nfor frozen products91Total\\n119\\n28116Total\\n154\\n38129Total\\n182\\n53133Total\\n221\\n88146Total\\n258\\n112\\n2018 2019 2020 2021 2022Low-energy stores new construction\\nrenovated', metadata={'page': 174.0, 'source': '../data/colruyt_annualreport.pdf'}),\n",
       " Document(page_content='175\\nHeating\\nIn 2022, we emitted 16% less greenhouse gases for heating than the previous year. This sharp drop is due to above-\\naverage outdoor temperatures and the conservation measures introduced because of the energy crisis. For example, \\nColruyt Lowest Prices reintroduced the insulating flaps in the fresh food market and we turned down the heating in our \\nbuildings. At the same time, we continue to renovate and add further insulation to our buildings, turning them into low-\\nenergy stores. In addition, 123 stores are now equipped with a heat recovery system. 89 stores do not even use fossil \\nfuels at all.\\nSUSTAINABILITY  |  SDG 2 • SDG 3 • SDG 6 • SDG 7 • SDG 8 • SDG 12 • SDG 13 • Sustainability indicators • EU Taxonomy SUSTAINABILITY  |  SDG 2 • SDG 3 • SDG 6 • SDG 7 • SDG 8 • SDG 12 • SDG 13 • Sustainability indicators • EU Taxonomy7599128158193\\n2018 2019 2020 2021 2022Stores with refrigeration systems  \\nrunning on natural refrigerants\\n12356488123\\n2018 2019 2020 2021 2022Stores with heat recovery5,19%4,09% 3,96% 3,81% 3,97%\\n2018 2019 2020 2021 2022Refrigerant leaks (%)\\n6.600\\n1426.600\\n2.0007.040\\n2.0497.176\\n2.4117.278\\n2.611\\n2018 2019 2020 2021 2022Liquid ice containers\\nfor fresh products\\nfor frozen products91Total\\n119\\n28116Total\\n154\\n38129Total\\n182\\n53133Total\\n221\\n88146Total\\n258\\n112\\n2018 2019 2020 2021 2022Low-energy stores new construction\\nrenovated', metadata={'page': 174.0, 'source': './data/colruyt_annualreport.pdf'})]"
      ]
     },
     "execution_count": 97,
     "metadata": {},
     "output_type": "execute_result"
    }
   ],
   "source": [
    "context_docs"
   ]
  },
  {
   "cell_type": "code",
   "execution_count": 98,
   "metadata": {},
   "outputs": [
    {
     "name": "stdout",
     "output_type": "stream",
     "text": [
      "It is not possible to answer this question with the given information.\n"
     ]
    }
   ],
   "source": [
    "print(chain.run(input_documents=context_docs, question=query).strip())"
   ]
  }
 ],
 "metadata": {
  "interpreter": {
   "hash": "b99c5373b61ce2ad3b538d3e8d82502ab7801c6feda23817c805afcebb135a2e"
  },
  "kernelspec": {
   "display_name": "Python 3.8.12 64-bit ('llm_esg_env')",
   "language": "python",
   "name": "python3"
  },
  "language_info": {
   "codemirror_mode": {
    "name": "ipython",
    "version": 3
   },
   "file_extension": ".py",
   "mimetype": "text/x-python",
   "name": "python",
   "nbconvert_exporter": "python",
   "pygments_lexer": "ipython3",
   "version": "3.8.12"
  },
  "orig_nbformat": 4,
  "vscode": {
   "interpreter": {
    "hash": "b99c5373b61ce2ad3b538d3e8d82502ab7801c6feda23817c805afcebb135a2e"
   }
  }
 },
 "nbformat": 4,
 "nbformat_minor": 2
}
