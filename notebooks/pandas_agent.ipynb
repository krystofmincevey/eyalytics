{
 "cells": [
  {
   "cell_type": "markdown",
   "id": "51e3d0bf",
   "metadata": {},
   "source": [
    "### Handle imports:"
   ]
  },
  {
   "cell_type": "code",
   "execution_count": 1,
   "id": "7fc991da",
   "metadata": {},
   "outputs": [
    {
     "name": "stdout",
     "output_type": "stream",
     "text": [
      "/Users/jb_vandeneynde/code/jb-vde/Belfius/llm_esg_kpi/eyalytics\n"
     ]
    }
   ],
   "source": [
    "# Move to root directory\n",
    "import os\n",
    "\n",
    "notebooks_dir = 'notebooks'\n",
    "if notebooks_dir in os.path.abspath(os.curdir):\n",
    "    while not os.path.abspath(os.curdir).endswith('notebooks'):\n",
    "        print(os.path.abspath(os.curdir))\n",
    "        os.chdir('..')\n",
    "    os.chdir('..')  # to get to root\n",
    "\n",
    "print(os.path.abspath(os.curdir))"
   ]
  },
  {
   "cell_type": "code",
   "execution_count": 2,
   "id": "3957d3c3",
   "metadata": {},
   "outputs": [],
   "source": [
    "# Get API Key:\n",
    "from dotenv import load_dotenv\n",
    "load_dotenv()\n",
    "if not os.getenv(\"OPENAI_API_KEY\"):\n",
    "    raise KeyError(\n",
    "        \"You will need an OPENAI_API_KEY to use the LLM models in this notebook.\"\n",
    "    )"
   ]
  },
  {
   "cell_type": "code",
   "execution_count": 18,
   "id": "4f2a866d",
   "metadata": {},
   "outputs": [],
   "source": [
    "import pandas as pd\n",
    "from langchain_experimental.agents.agent_toolkits import create_pandas_dataframe_agent\n",
    "from langchain_experimental.tools.python.tool import PythonREPLTool\n",
    "from langchain.agents import Tool, ZeroShotAgent\n",
    "from langchain import OpenAI\n",
    "from langchain.agents.agent_types import AgentType"
   ]
  },
  {
   "cell_type": "code",
   "execution_count": 19,
   "id": "f68a4332",
   "metadata": {},
   "outputs": [],
   "source": [
    "df = pd.read_csv('data/cwyod/titanic.csv')"
   ]
  },
  {
   "cell_type": "code",
   "execution_count": 22,
   "id": "91c50e81",
   "metadata": {},
   "outputs": [],
   "source": [
    "pandas_agent = create_pandas_dataframe_agent(\n",
    "    llm=OpenAI(temperature=0),\n",
    "    df = df,\n",
    "    verbose=True\n",
    ")"
   ]
  },
  {
   "cell_type": "code",
   "execution_count": 24,
   "id": "71a476b7",
   "metadata": {},
   "outputs": [
    {
     "name": "stdout",
     "output_type": "stream",
     "text": [
      "\n",
      "\n",
      "\u001b[1m> Entering new AgentExecutor chain...\u001b[0m\n",
      "\u001b[32;1m\u001b[1;3mThought: I need to look at the data to understand what it is about.\n",
      "Action: python_repl_ast\n",
      "Action Input: df.info()\u001b[0m\n",
      "Observation: \u001b[36;1m\u001b[1;3m<class 'pandas.core.frame.DataFrame'>\n",
      "RangeIndex: 891 entries, 0 to 890\n",
      "Data columns (total 12 columns):\n",
      " #   Column       Non-Null Count  Dtype  \n",
      "---  ------       --------------  -----  \n",
      " 0   PassengerId  891 non-null    int64  \n",
      " 1   Survived     891 non-null    int64  \n",
      " 2   Pclass       891 non-null    int64  \n",
      " 3   Name         891 non-null    object \n",
      " 4   Sex          891 non-null    object \n",
      " 5   Age          714 non-null    float64\n",
      " 6   SibSp        891 non-null    int64  \n",
      " 7   Parch        891 non-null    int64  \n",
      " 8   Ticket       891 non-null    object \n",
      " 9   Fare         891 non-null    float64\n",
      " 10  Cabin        204 non-null    object \n",
      " 11  Embarked     889 non-null    object \n",
      "dtypes: float64(2), int64(5), object(5)\n",
      "memory usage: 83.7+ KB\n",
      "\u001b[0m\n",
      "Thought:\u001b[32;1m\u001b[1;3m The dataframe contains information about passengers on a ship.\n",
      "Final Answer: The dataframe contains information about passengers on a ship.\u001b[0m\n",
      "\n",
      "\u001b[1m> Finished chain.\u001b[0m\n",
      "The dataframe contains information about passengers on a ship.\n"
     ]
    }
   ],
   "source": [
    "request = \"\"\"\n",
    "What is the table about? \n",
    "\"\"\"\n",
    "response = pandas_agent.run(request)\n",
    "print(response)"
   ]
  }
 ],
 "metadata": {
  "kernelspec": {
   "display_name": "Python 3.9.0 64-bit ('llm_env_39')",
   "language": "python",
   "name": "python3"
  },
  "language_info": {
   "codemirror_mode": {
    "name": "ipython",
    "version": 3
   },
   "file_extension": ".py",
   "mimetype": "text/x-python",
   "name": "python",
   "nbconvert_exporter": "python",
   "pygments_lexer": "ipython3",
   "version": "3.9.0"
  },
  "vscode": {
   "interpreter": {
    "hash": "d0cf7f0062db7a4ece7a5ab49365bd9be1993f394f58f000aaf2eeb440205ba3"
   }
  }
 },
 "nbformat": 4,
 "nbformat_minor": 5
}
