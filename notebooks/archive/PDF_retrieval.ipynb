{
 "cells": [
  {
   "cell_type": "markdown",
   "id": "944b9159",
   "metadata": {},
   "source": [
    "# ESG Question Answering Assistant: "
   ]
  },
  {
   "cell_type": "markdown",
   "id": "65d16ff7",
   "metadata": {},
   "source": [
    "### Handle Imports:"
   ]
  },
  {
   "cell_type": "code",
   "execution_count": 1,
   "id": "1d32c11a",
   "metadata": {},
   "outputs": [
    {
     "name": "stdout",
     "output_type": "stream",
     "text": [
      "C:\\Users\\MD726YR\\PycharmProjects\\eyalytics\n"
     ]
    }
   ],
   "source": [
    "# Move to root directory\n",
    "import os\n",
    "\n",
    "notebooks_dir = 'notebooks'\n",
    "if notebooks_dir in os.path.abspath(os.curdir):\n",
    "    while not os.path.abspath(os.curdir).endswith('notebooks'):\n",
    "        print(os.path.abspath(os.curdir))\n",
    "        os.chdir('..')\n",
    "    os.chdir('..')  # to get to root\n",
    "\n",
    "print(os.path.abspath(os.curdir))"
   ]
  },
  {
   "cell_type": "code",
   "execution_count": 2,
   "id": "e3f02e28",
   "metadata": {},
   "outputs": [],
   "source": [
    "# Supress SSL verification (EY problem):\n",
    "import requests\n",
    "from requests.packages.urllib3.exceptions import InsecureRequestWarning\n",
    "\n",
    "# Suppress only the single warning from urllib3 needed.\n",
    "requests.packages.urllib3.disable_warnings(category=InsecureRequestWarning)\n",
    "\n",
    "old_send = requests.Session.send\n",
    "\n",
    "def new_send(*args, **kwargs):\n",
    "    kwargs['verify'] = False\n",
    "    return old_send(*args, **kwargs)\n",
    "\n",
    "requests.Session.send = new_send"
   ]
  },
  {
   "cell_type": "code",
   "execution_count": 63,
   "id": "edcff8a3",
   "metadata": {},
   "outputs": [],
   "source": [
    "# Import relevant libraries for llm ochestration:\n",
    "from langchain import OpenAI, PromptTemplate\n",
    "from langchain.agents.tools import Tool\n",
    "from langchain.agents import AgentType, initialize_agent\n",
    "from langchain.tools import DuckDuckGoSearchRun, BaseTool\n",
    "from langchain.utilities import SerpAPIWrapper\n",
    "from langchain.callbacks import get_openai_callback\n",
    "from langchain.memory import ConversationBufferMemory"
   ]
  },
  {
   "cell_type": "code",
   "execution_count": 4,
   "id": "213a1e1c",
   "metadata": {},
   "outputs": [],
   "source": [
    "# Import libraries for web scraping:\n",
    "import requests\n",
    "import mimetypes\n",
    "import urllib.parse\n",
    "from bs4 import BeautifulSoup\n",
    "from selenium import webdriver\n",
    "from selenium.webdriver.chrome.options import Options \n",
    "from selenium.webdriver.common.by import By"
   ]
  },
  {
   "cell_type": "code",
   "execution_count": null,
   "id": "156b423c",
   "metadata": {},
   "outputs": [],
   "source": [
    "# Other imports:\n",
    "from typing import List, Dict, Optional"
   ]
  },
  {
   "cell_type": "code",
   "execution_count": 64,
   "id": "96298428",
   "metadata": {},
   "outputs": [],
   "source": [
    "# Get API Key:\n",
    "from dotenv import load_dotenv\n",
    "load_dotenv()\n",
    "if not os.getenv(\"OPENAI_API_KEY\"):\n",
    "    raise KeyError(\n",
    "        \"You will need an OPENAI_API_KEY to use the LLM models in this notebook.\"\n",
    "    )"
   ]
  },
  {
   "cell_type": "markdown",
   "id": "92e52723",
   "metadata": {},
   "source": [
    "### Task 0: Instantiate your LLM.\n",
    "Use a deterministic model - setting the temperature (measure of randomness) to 0."
   ]
  },
  {
   "cell_type": "code",
   "execution_count": 6,
   "id": "cf6a9d4a",
   "metadata": {},
   "outputs": [
    {
     "name": "stderr",
     "output_type": "stream",
     "text": [
      "C:\\Users\\MD726YR\\AppData\\Local\\pypoetry\\Cache\\virtualenvs\\eyalytics-cpKgxviR-py3.8\\lib\\site-packages\\langchain\\llms\\openai.py:179: UserWarning: You are trying to use a chat model. This way of initializing it is no longer supported. Instead, please use: `from langchain.chat_models import ChatOpenAI`\n",
      "  warnings.warn(\n",
      "C:\\Users\\MD726YR\\AppData\\Local\\pypoetry\\Cache\\virtualenvs\\eyalytics-cpKgxviR-py3.8\\lib\\site-packages\\langchain\\llms\\openai.py:753: UserWarning: You are trying to use a chat model. This way of initializing it is no longer supported. Instead, please use: `from langchain.chat_models import ChatOpenAI`\n",
      "  warnings.warn(\n"
     ]
    }
   ],
   "source": [
    "llm = OpenAI(\n",
    "#     openai_api_key=OPENAI_API_KEY,  # not needed as load_dotenv used instead \n",
    "    temperature=0,\n",
    "    model_name='gpt-3.5-turbo',\n",
    ")"
   ]
  },
  {
   "cell_type": "markdown",
   "id": "16aa4ddc",
   "metadata": {},
   "source": [
    "Set up token counting to monitor your costs:"
   ]
  },
  {
   "cell_type": "code",
   "execution_count": null,
   "id": "a10ffec4",
   "metadata": {},
   "outputs": [],
   "source": [
    "def count_tokens(agent, query):\n",
    "    with get_openai_callback() as cb:\n",
    "        result = agent(query)\n",
    "        print(f'Spent a total of {cb.total_tokens} tokens')\n",
    "\n",
    "    return result"
   ]
  },
  {
   "cell_type": "markdown",
   "id": "40acb7da",
   "metadata": {},
   "source": [
    "### Task 1: Use SerpAPI to try to find publickly available ESG reports"
   ]
  },
  {
   "cell_type": "code",
   "execution_count": 7,
   "id": "9fa99484",
   "metadata": {},
   "outputs": [],
   "source": [
    "# Define APIError:\n",
    "class APIError(Exception):\n",
    "    \"\"\"An API Error Exception\"\"\"\n",
    "\n",
    "    def __init__(self, status):\n",
    "        self.status = status\n",
    "\n",
    "    def __str__(self):\n",
    "        return \"APIError: status={}\".format(self.status)"
   ]
  },
  {
   "cell_type": "code",
   "execution_count": 8,
   "id": "d44339bf",
   "metadata": {},
   "outputs": [],
   "source": [
    "# Create tools: \n",
    "tools = []\n",
    "\n",
    "# Add paid search tool - note 100 calls per month are free:\n",
    "if os.getenv(\"SERPAPI_API_KEY\"):\n",
    "    paid_search = SerpAPIWrapper()\n",
    "    tools.append(Tool(\n",
    "        name='Paid Google Search',\n",
    "        func= paid_search.run,\n",
    "        description=\"\"\"\n",
    "            A useful tool for searching the internet. Be specific with your input.\n",
    "        \"\"\"\n",
    "    ))\n",
    "else:\n",
    "    raise APIError(\n",
    "        \"No API key found. Search functionality not supported.\"\n",
    "    )"
   ]
  },
  {
   "cell_type": "code",
   "execution_count": 7,
   "id": "bfb37e6b",
   "metadata": {},
   "outputs": [
    {
     "data": {
      "text/plain": [
       "'Tesla, Inc. is an American multinational automotive and energy company headquartered in Austin, Texas. Tesla designs and manufactures electric vehicles, stationary battery energy storage devices from home to grid-scale, solar panels and solar roof tiles, and related products and services.'"
      ]
     },
     "execution_count": 7,
     "metadata": {},
     "output_type": "execute_result"
    }
   ],
   "source": [
    "# Check tools properly instantiated: \n",
    "tools[0].run(\"Tesla stock price?\")"
   ]
  },
  {
   "cell_type": "markdown",
   "id": "b768ea78",
   "metadata": {},
   "source": [
    "Add custom URL checker tool. For more information about creating custom tooling check out: \n",
    "    \n",
    "https://github.com/pinecone-io/examples/blob/master/generation/langchain/handbook/07-langchain-tools.ipynb"
   ]
  },
  {
   "cell_type": "code",
   "execution_count": 9,
   "id": "ec47c3e5",
   "metadata": {},
   "outputs": [],
   "source": [
    "# First create function:\n",
    "def is_downloadable(url: str) -> bool:\n",
    "    try:\n",
    "        h = requests.head(url, allow_redirects=True)\n",
    "        header = h.headers\n",
    "        content_type = header.get('content-type')\n",
    "        if 'application' in content_type.lower():\n",
    "            return True\n",
    "\n",
    "        return False\n",
    "    except Exception as e:\n",
    "        print(f\"An error occurred: {e}\")\n",
    "        return False\n",
    "\n",
    "# Test is_downloadable: \n",
    "assert is_downloadable(\n",
    "    'https://www.coca-colacompany.com/content/dam/journey/us/en/reports/coca-cola-business-environmental-social-governance-report-2021.pdf'\n",
    "), 'is_downloadable failed to identify a pdf.'\n",
    "assert not is_downloadable(\n",
    "    \"https://www.coca-colacompany.com/reports/business-and-sustainability-report\"\n",
    "), 'is_downloadable wrongly assumed that a webpage was downloadable.' "
   ]
  },
  {
   "cell_type": "code",
   "execution_count": 11,
   "id": "e985b72a",
   "metadata": {},
   "outputs": [],
   "source": [
    "# Next, create custom tool from is_downloadable\n",
    "class URLCheck(BaseTool):\n",
    "    name = \"URL Check\"\n",
    "    description = \"\"\"\n",
    "    Checks if a url is a downloadable resource, returning True if \n",
    "    the url is downloadable and False otherwise.\n",
    "    \n",
    "    Note: The function checks the 'content-type' header to determine \n",
    "    if the resource is a file. If the content type contains the word \n",
    "    'application', it's likely the URL is a downloadable file (like a PDF or a Word doc).\n",
    "    This isn't foolproof - 'application' can appear in other content types as well, and\n",
    "    some servers might return non-standard content types for files. You might need\n",
    "    to adjust the logic based on your specific requirements.\n",
    "    \"\"\"\n",
    "    def _run(self, url: str) -> bool:\n",
    "        return is_downloadable(url)\n",
    "    \n",
    "    def _arun(self, url: str):\n",
    "        raise NotImplementedError(\"This tool does not currently support async run.\")\n",
    "\n",
    "tools.append(URLCheck())    "
   ]
  },
  {
   "cell_type": "markdown",
   "id": "56ccb86c",
   "metadata": {},
   "source": [
    "**Initialise a Zero-shot ReAct Agent**:\n",
    "\n",
    "This agent uses the ReAct framework to determine which tool to use based solely on the tool's description. Any number of tools can be provided. This agent requires that a description is provided for each tool."
   ]
  },
  {
   "cell_type": "code",
   "execution_count": 12,
   "id": "12526e44",
   "metadata": {},
   "outputs": [],
   "source": [
    "zero_shot_agent = initialize_agent(\n",
    "    agent=AgentType.ZERO_SHOT_REACT_DESCRIPTION, \n",
    "    tools=tools, \n",
    "    llm=llm,\n",
    "    verbose=True,\n",
    "    max_iterations=3,\n",
    ")"
   ]
  },
  {
   "cell_type": "markdown",
   "id": "79a303d4",
   "metadata": {},
   "source": [
    "**Create a template for URL retrieval**"
   ]
  },
  {
   "cell_type": "code",
   "execution_count": 98,
   "id": "ff63dd9e",
   "metadata": {},
   "outputs": [],
   "source": [
    "search_template = \"\"\"\n",
    "    You are tasked with finding a downloadable URL link to the most recent sustainability \n",
    "    report of {company}. Please search the web for this link; checking years 2023, 2022, and\n",
    "    2021 (in that order) until you find one. You may need the scrape {company}'s official site\n",
    "    to find a downloadable link to a report.\n",
    "    \n",
    "    Note: The final output should (where available) be a downloadable url: specifying a path\n",
    "    to the sustainability report.\n",
    "\"\"\""
   ]
  },
  {
   "cell_type": "code",
   "execution_count": 14,
   "id": "75775b36",
   "metadata": {
    "scrolled": false
   },
   "outputs": [
    {
     "name": "stdout",
     "output_type": "stream",
     "text": [
      "\n",
      "\n",
      "\u001b[1m> Entering new  chain...\u001b[0m\n",
      "\u001b[32;1m\u001b[1;3mI should start by searching for the most recent sustainability report of Coca-Cola. I will search for the year 2023 first, then 2022, and finally 2021. I will use the Paid Google Search tool to search for the report.\n",
      "\n",
      "Action: Paid Google Search\n",
      "Action Input: \"Coca-Cola sustainability report 2023\"\u001b[0m\n",
      "Observation: \u001b[36;1m\u001b[1;3mThe Coca-Cola Company's Business & Sustainability Report covers multiple aspects of the business, including: our sustainability priorities and progress; ...\u001b[0m\n",
      "Thought:\u001b[32;1m\u001b[1;3mI didn't find a specific URL for the sustainability report in the search results. I should try a different year.\n",
      "\n",
      "Action: Paid Google Search\n",
      "Action Input: \"Coca-Cola sustainability report 2022\"\u001b[0m\n",
      "Observation: \u001b[36;1m\u001b[1;3mThis 2022 Business & Sustainability Report is The Coca-Cola Company's fifth report to integrate overall business and sustainability ...\u001b[0m\n",
      "Thought:\u001b[32;1m\u001b[1;3mI still didn't find a specific URL for the sustainability report. I should try the last year.\n",
      "\n",
      "Action: Paid Google Search\n",
      "Action Input: \"Coca-Cola sustainability report 2021\"\u001b[0m\n",
      "Observation: \u001b[36;1m\u001b[1;3mThrough all of the challenges, initiatives and successes of 2021, our environmental, social and governance priorities continued to be embedded ...\u001b[0m\n",
      "Thought:\u001b[32;1m\u001b[1;3mI couldn't find a specific URL for the sustainability report in any of the search results. I should try using the URL Check tool to check if any of the search results are downloadable resources.\n",
      "\n",
      "Action: URL Check\n",
      "Action Input: [list of URLs from the search results]\u001b[0mAn error occurred: Failed to parse: [list of URLs from the search results]\n",
      "\n",
      "Observation: \u001b[33;1m\u001b[1;3mFalse\u001b[0m\n",
      "Thought:\u001b[32;1m\u001b[1;3mNone of the URLs from the search results are downloadable resources. I should try a different approach.\n",
      "\n",
      "Thought: I will search for the Coca-Cola sustainability report on the official Coca-Cola website.\n",
      "\n",
      "Action: Paid Google Search\n",
      "Action Input: \"site:coca-colacompany.com Coca-Cola sustainability report\"\u001b[0m\n",
      "Observation: \u001b[36;1m\u001b[1;3mThe Coca-Cola Company's Business & Sustainability Report covers multiple aspects of the business, including: our sustainability priorities and progress; ...\u001b[0m\n",
      "Thought:\u001b[32;1m\u001b[1;3m\u001b[0m\n",
      "\n",
      "\u001b[1m> Finished chain.\u001b[0m\n"
     ]
    },
    {
     "data": {
      "text/plain": [
       "'Agent stopped due to iteration limit or time limit.'"
      ]
     },
     "execution_count": 14,
     "metadata": {},
     "output_type": "execute_result"
    }
   ],
   "source": [
    "# Start agent\n",
    "example_company = \"Coca-Cola\"\n",
    "zero_shot_agent.run(search_template.format(company=example_company))"
   ]
  },
  {
   "cell_type": "markdown",
   "id": "15d72c0d",
   "metadata": {},
   "source": [
    "**Failed** Note that the above failed probably because the SERP API is supposed to be used to obtain information about topics, and not urls. Additionally it probably failed becuase the ZERO-SHOT agent does not retain contextual memory. \n",
    "A conversation ReAct agent may be a better option for the task at hand. \n",
    "\n",
    "**BELOW** we try and fix these issues by developing custom tools to replace SERP API using selenium, request, and beautiful soup. Additionally we modify the agent type/develop a custom chain to perform the task. "
   ]
  },
  {
   "cell_type": "markdown",
   "id": "e07748c7",
   "metadata": {},
   "source": [
    "</br>"
   ]
  },
  {
   "cell_type": "markdown",
   "id": "12c3d5aa",
   "metadata": {},
   "source": [
    "#### Develop Custom Tooling:"
   ]
  },
  {
   "cell_type": "markdown",
   "id": "b9a29a25",
   "metadata": {},
   "source": [
    "Start by developing tools for fetching urls and descriptions from duckduckgo. Once you have this, also develop a url scraper that  "
   ]
  },
  {
   "cell_type": "code",
   "execution_count": 100,
   "id": "7eac3017",
   "metadata": {},
   "outputs": [],
   "source": [
    "import requests\n",
    "import mimetypes\n",
    "import urllib.parse\n",
    "from bs4 import BeautifulSoup\n",
    "from selenium import webdriver\n",
    "from typing import List, Dict, Optional\n",
    "\n",
    "\n",
    "def is_downloadable(url: str) -> bool:\n",
    "    \"\"\"\n",
    "    Check if a url is a downloadable link.\n",
    "    \n",
    "    Example:\n",
    "        is_downloadable(\n",
    "            'https://www.coca-colacompany.com/content/dam/journey/us/en/reports/coca-cola-business-and-sustainability-report-2022.pdf'\n",
    "        ) -> True\n",
    "    \"\"\"\n",
    "    mimetype, encoding = mimetypes.guess_type(url)\n",
    "    if mimetype and mimetype.startswith('application'):\n",
    "        return True\n",
    "\n",
    "    try:\n",
    "        h = requests.head(url, allow_redirects=True)\n",
    "        header = h.headers\n",
    "        content_type = header.get('content-type')\n",
    "        if content_type and 'application' in content_type.lower():\n",
    "            return True\n",
    "    except Exception as e:\n",
    "        print(f\"An error occurred: {e}\")\n",
    "\n",
    "    return False\n",
    "\n",
    "\n",
    "def fetch_duckduckgo_results(query: str, num_results: int = 5) -> List[Dict[str, Union[str, bool, int]]]:\n",
    "    \"\"\"\n",
    "    Fetch search results from DuckDuckGo using Selenium and BeautifulSoup.\n",
    "    \n",
    "    Parameters:\n",
    "    - query (str): The search query string.\n",
    "    - num_results (int, optional): Maximum number of results to fetch. Defaults to 5.\n",
    "\n",
    "    Returns:\n",
    "    - list[dict]: Returns a list of dictionaries containing the following details about the search results:\n",
    "        * title (str): Title of the search result.\n",
    "        * description (str, optional): Description or snippet of the result.\n",
    "        * link (str, optional): Direct URL of the search result.\n",
    "        * downloadable (bool): Whether the link points to downloadable content.\n",
    "        * rank (int): Rank or position of the search result on the page.\n",
    "    \"\"\"\n",
    "    \n",
    "    chrome_options = webdriver.ChromeOptions()\n",
    "    chrome_options.add_argument(\"--headless\")\n",
    "    driver = webdriver.Chrome(options=chrome_options)\n",
    "    url = f\"https://duckduckgo.com/html/?q={query}\"\n",
    "    driver.get(url)\n",
    "    \n",
    "    soup = BeautifulSoup(driver.page_source, 'html.parser')\n",
    "    search_results = soup.find_all('div', class_='result__body')\n",
    "    \n",
    "    results = []\n",
    "    for rank, result in enumerate(search_results):\n",
    "        title = result.find('a', class_='result__a').get_text(strip=True) if result.find('a', class_='result__a') else None\n",
    "        description = result.find('a', class_='result__snippet').get_text(strip=True) if result.find('a', class_='result__snippet') else None\n",
    "        link = result.find('a', class_='result__url').get('href') if result.find('a', class_='result__url') else None\n",
    "        \n",
    "        if link:\n",
    "            actual_url_encoded = urllib.parse.parse_qs(\n",
    "                urllib.parse.urlparse(link).query\n",
    "            ).get(\"uddg\", [None])[0]\n",
    "            if actual_url_encoded:\n",
    "                final_link = urllib.parse.unquote(actual_url_encoded)\n",
    "            else:\n",
    "                final_link = None\n",
    "        else:\n",
    "            final_link = None\n",
    "        \n",
    "        results.append({\n",
    "            'title': title,\n",
    "            'description': description,\n",
    "            'link': final_link,\n",
    "            'downloadable': is_downloadable(final_link) if final_link else False,\n",
    "            'rank': rank,\n",
    "        })\n",
    "        \n",
    "        if len(results) >= num_results:\n",
    "            break\n",
    "    \n",
    "    driver.quit()\n",
    "    return results\n",
    "\n",
    "\n",
    "def extract_link_description(link: BeautifulSoup) -> str:\n",
    "    \"\"\"\n",
    "    Extract the most relevant description for a BeautifulSoup link element.\n",
    "    \n",
    "    The function uses a series of heuristics to determine the best description:\n",
    "    1. The link's text.\n",
    "    2. The 'alt' attribute of any child <img> tag.\n",
    "    3. The 'title' attribute of the link.\n",
    "    4. The link's href itself.\n",
    "    \n",
    "    Parameters:\n",
    "    - link (BeautifulSoup): The BeautifulSoup element representing the link (a-tag).\n",
    "    \n",
    "    Returns:\n",
    "    - str: A description extracted based on the heuristics.\n",
    "    \"\"\"\n",
    "    \n",
    "    description = link.string.strip() if link.string else None\n",
    "\n",
    "    if not description:\n",
    "        img_tag = link.find('img')\n",
    "        if img_tag and 'alt' in img_tag.attrs:\n",
    "            description = img_tag['alt'].strip()\n",
    "\n",
    "    if not description and 'title' in link.attrs:\n",
    "        description = link['title'].strip()\n",
    "\n",
    "    if not description:\n",
    "        description = link['href']\n",
    "\n",
    "    return description\n",
    "\n",
    "\n",
    "def extract_download_links_from_url(url: str) -> List[Dict[str, str]]:\n",
    "    \"\"\"\n",
    "    Scrape a given URL and extract links that are deemed downloadable.\n",
    "    \n",
    "    Parameters:\n",
    "    - url (str): The URL to scrape.\n",
    "    \n",
    "    Returns:\n",
    "    - list[dict]: A list of dictionaries with two keys:\n",
    "        * description (str): A description or title for the link.\n",
    "        * link (str): The actual URL of the link.\n",
    "    \"\"\"\n",
    "    \n",
    "    if is_downloadable(url):\n",
    "        return [{'description': None, 'link': None}]\n",
    "        \n",
    "    response = requests.get(url)\n",
    "    soup = BeautifulSoup(response.content, 'html.parser')\n",
    "    anchors = soup.find_all('a', href=True)\n",
    "\n",
    "    link_dict = {}\n",
    "\n",
    "    for anchor in anchors:\n",
    "        # Step 1: Resolve to absolute URL\n",
    "        relative_href = anchor['href']\n",
    "        absolute_href = urllib.parse.urljoin(url, relative_href)\n",
    "        \n",
    "        # Step 2: Strip fragments\n",
    "        main_url = urllib.parse.urldefrag(absolute_href).url\n",
    "\n",
    "        # Step 3: Check if downloadable\n",
    "        if is_downloadable(main_url):\n",
    "            description = extract_link_description(anchor)\n",
    "\n",
    "            # Step 4: Decide on description update\n",
    "            if main_url not in link_dict or len(description) > len(link_dict[main_url]['description']):\n",
    "                link_dict[main_url] = {'description': description, 'link': main_url}\n",
    "\n",
    "    return list(link_dict.values())\n"
   ]
  },
  {
   "cell_type": "code",
   "execution_count": 51,
   "id": "cca0f5a2",
   "metadata": {},
   "outputs": [
    {
     "name": "stdout",
     "output_type": "stream",
     "text": [
      "{'title': 'BUSINESS & SUSTAINABILITY REPORT - The Coca-Cola Company', 'description': 'Publication date: April2023Language: English Number of pages: 88 Below is a list of quick links from thereport: 3. Chairman & CEO Message 5. Board of Directors 6. Executive Summary 12.', 'link': 'https://www.coca-colacompany.com/reports/business-and-sustainability-report', 'downloadable': False, 'rank': 0}\n",
      "{'title': 'Sustainability - The Coca-Cola Company', 'description': \"Water Stewardship Water balance is giving back to nature and communities. We go beyond to improve water security where it's needed most. Explore In Our Products We provide high-quality products and cutting edge ingredients sourced sustainably and ethically. Explore Sustainable Agriculture\", 'link': 'https://www.coca-colacompany.com/sustainability', 'downloadable': False, 'rank': 1}\n",
      "{'title': 'Sustainability - The Coca-Cola Company', 'description': \"SustainabilityOur planet matters. We act in ways to create a more sustainable and better shared future. To make a difference in people's lives, communities and our planet by doing business the right way. ViewSustainabilitySocial Impact People matter.\", 'link': 'https://investors.coca-colacompany.com/sustainability', 'downloadable': False, 'rank': 2}\n",
      "{'title': 'PDFThe Coca-Cola Company', 'description': 'TheCoca-ColaCompany', 'link': 'https://www.coca-colacompany.com/content/dam/journey/us/en/reports/coca-cola-business-and-sustainability-report-2022.pdf', 'downloadable': True, 'rank': 3}\n",
      "{'title': 'The Coca-Cola Company', 'description': 'Latest Financial Results Jul 26,2023• 6:55 AM EDT Q22023Quarterly Results Quarter Ended Jun 30,2023Earnings Release PDF Audio Earnings Webcast Margin Analysis Schedule PDF Transcript', 'link': 'https://investors.coca-colacompany.com/', 'downloadable': False, 'rank': 4}\n"
     ]
    }
   ],
   "source": [
    "# Test the tool.\n",
    "query = \"Coca-Cola sustainability report 2023\"\n",
    "results = fetch_duckduckgo_results(query, 5)\n",
    "for _result in results:\n",
    "    print(_result)"
   ]
  },
  {
   "cell_type": "code",
   "execution_count": 62,
   "id": "0c308697",
   "metadata": {},
   "outputs": [
    {
     "name": "stdout",
     "output_type": "stream",
     "text": [
      "Scraping: https://www.coca-colacompany.com/reports/business-and-sustainability-report\n",
      "[{'description': 'Advertising History', 'link': 'https://www.coca-colacompany.com/content/dam/company/us/en/about-us/history/coca-cola-a-short-history-125-years-booklet.pdf'}, {'description': '/content/dam/company/us/en/reports/coca-cola-business-and-sustainability-report-2022.pdf', 'link': 'https://www.coca-colacompany.com/content/dam/company/us/en/reports/coca-cola-business-and-sustainability-report-2022.pdf'}, {'description': 'View Highlights', 'link': 'https://www.coca-colacompany.com/content/dam/company/us/en/reports/2022-business-report/coca-cola-business-and-sustainability-report-2022-highlights.pdf'}]\n",
      "Scraping: https://www.coca-colacompany.com/sustainability\n",
      "[{'description': 'Advertising History', 'link': 'https://www.coca-colacompany.com/content/dam/company/us/en/about-us/history/coca-cola-a-short-history-125-years-booklet.pdf'}]\n",
      "Scraping: https://investors.coca-colacompany.com/sustainability\n",
      "[{'description': 'Presentation', 'link': 'https://d1io3yog0oux5.cloudfront.net/cocacolacompany/files/pages/cocacolacompany/db/711/description/2021/ESG_Investor_Presentation_FINAL_for_website.pdf'}, {'description': 'Transcript', 'link': 'https://d1io3yog0oux5.cloudfront.net/cocacolacompany/files/pages/cocacolacompany/db/711/description/2021/CORRECTED_TRANSCRIPT_The_Coca-Cola_Co.%28KO-US%29_Business_Update_Call_-_ESG_3-November-2021_11_00_AM_ET.pdf'}, {'description': 'RSS News Feed', 'link': 'https://investors.coca-colacompany.com/news-events/press-releases/rss'}]\n"
     ]
    }
   ],
   "source": [
    "for _result in results[:3]:\n",
    "    link = _result['link']\n",
    "    _results = extract_download_links_from_url(link)\n",
    "    print(f\"Scraping: {link}\")\n",
    "    print(_results)"
   ]
  },
  {
   "cell_type": "markdown",
   "id": "2b3496fe",
   "metadata": {},
   "source": [
    "Create custom langchain tools from the functions:\n",
    "- fetch_duckduckgo_results\n",
    "- extract_download_links_from_url"
   ]
  },
  {
   "cell_type": "code",
   "execution_count": 101,
   "id": "02baf0eb",
   "metadata": {},
   "outputs": [],
   "source": [
    "def format_search_results(search_results):\n",
    "    search_results.sort(key=lambda x: x['rank'])  # Sort by rank\n",
    "    formatted_results = [\n",
    "        \"Search Results (sorted based on page rank):\\n\"\n",
    "    ]\n",
    "\n",
    "    for entry in search_results:\n",
    "        formatted_results.append(\"URL: '{}'\\n\".format(entry['link']))\n",
    "        formatted_results.append(\"Downloadable: {}\\n\".format(\n",
    "            entry['downloadable']\n",
    "        ))\n",
    "        formatted_results.append(\"Description: {}; {}\\n\".format(\n",
    "            entry['title'], entry['description']))\n",
    "        formatted_results.append(\"\\n\\n\")\n",
    "\n",
    "    formatted_results.append(\n",
    "        \"\\nNote that when Downloadable is True, the url \" +\n",
    "        \"is a downloadable link and should not be scraped.\"\n",
    "    )\n",
    "    return \"\".join(formatted_results)\n",
    "\n",
    "\n",
    "def format_url_scrape_results(url, scrape_results):\n",
    "    formatted_results = [\n",
    "        f\"Downloadable links from {url} (in no particular order):\\n\"]\n",
    "\n",
    "    for entry in scrape_results:\n",
    "        formatted_results.append(\"URL: {}\".format(entry['link']))\n",
    "        formatted_results.append(\"Description: {}\\n\".format(entry['description']))\n",
    "        formatted_results.append(\"\\n\")\n",
    "        \n",
    "    return \"\".join(formatted_results)\n",
    "    \n",
    "class DDGoSearch(BaseTool):\n",
    "    \n",
    "    name = fetch_duckduckgo_results.__name__\n",
    "    description = \"\"\"\n",
    "        Fetch search results from DuckDuckGo.\n",
    "        \n",
    "        Elaborating, this tool will return a list of urls and their \n",
    "        accompanying duckduckgo descriptions. For each url a flag\n",
    "        indicating if the url is downloadable is outputed as well.\n",
    "    \"\"\"\n",
    "    \n",
    "    def _run(self, query: str) -> bool:\n",
    "        ddgo_results = fetch_duckduckgo_results(\n",
    "            query=query, \n",
    "            num_results=5,\n",
    "        )\n",
    "        return format_search_results(ddgo_results)\n",
    "        \n",
    "    \n",
    "    def _arun(self, query: str):\n",
    "        raise NotImplementedError(\n",
    "            f\"{self.__class__.__name__} does not currently support async run.\"\n",
    "        )\n",
    "        \n",
    "class URLScraper(BaseTool):\n",
    "    \n",
    "    name = extract_download_links_from_url.__name__\n",
    "    description = \"\"\"\n",
    "        URL Scraper. Given a non-downloadable URL this tool \n",
    "        scrapes a webpage and returns all downloadable links, \n",
    "        along with their descriptions, appearing on that webpage.\n",
    "    \"\"\"\n",
    "    \n",
    "    def _run(self, url: str) -> bool:\n",
    "        scrape_results = extract_download_links_from_url(url)\n",
    "        return format_url_scrape_results(url, scrape_results)\n",
    "    \n",
    "    def _arun(self, url: str):\n",
    "        raise NotImplementedError(\n",
    "            f\"{self.__class__.__name__} does not currently support async run.\"\n",
    "        )\n",
    "        \n",
    "tools = [DDGoSearch(), URLScraper()] "
   ]
  },
  {
   "cell_type": "markdown",
   "id": "abff0ab5",
   "metadata": {},
   "source": [
    "Now that we have functioning tools for URL retrival, let's deploy the tools alongside an LLM. Below we'll define the LLM as well as the agent that we'll be using. \n",
    "\n",
    "*For details about agents see: https://www.pinecone.io/learn/series/langchain/langchain-agents/*"
   ]
  },
  {
   "cell_type": "code",
   "execution_count": 67,
   "id": "fe6dccb6",
   "metadata": {},
   "outputs": [
    {
     "name": "stderr",
     "output_type": "stream",
     "text": [
      "C:\\Users\\MD726YR\\AppData\\Local\\pypoetry\\Cache\\virtualenvs\\eyalytics-cpKgxviR-py3.8\\lib\\site-packages\\langchain\\llms\\openai.py:179: UserWarning: You are trying to use a chat model. This way of initializing it is no longer supported. Instead, please use: `from langchain.chat_models import ChatOpenAI`\n",
      "  warnings.warn(\n",
      "C:\\Users\\MD726YR\\AppData\\Local\\pypoetry\\Cache\\virtualenvs\\eyalytics-cpKgxviR-py3.8\\lib\\site-packages\\langchain\\llms\\openai.py:753: UserWarning: You are trying to use a chat model. This way of initializing it is no longer supported. Instead, please use: `from langchain.chat_models import ChatOpenAI`\n",
      "  warnings.warn(\n"
     ]
    }
   ],
   "source": [
    "llm = OpenAI(\n",
    "    temperature=0,  # measure of randomness/creativity\n",
    "    model_name='gpt-3.5-turbo'\n",
    ")"
   ]
  },
  {
   "cell_type": "markdown",
   "id": "c9b12bc3",
   "metadata": {},
   "source": [
    "We can use the **conversational-react-description agent** to remember interactions - which will be neccessary if we want the agent to be able to check urls for downloadable files. We can think of this agent as the same as our previous zero-shot-react agent, but with conversational memory."
   ]
  },
  {
   "cell_type": "code",
   "execution_count": 95,
   "id": "eff0c69f",
   "metadata": {},
   "outputs": [],
   "source": [
    "memory = ConversationBufferMemory(\n",
    "    memory_key=\"chat_history\"\n",
    ")\n",
    "conversational_agent  = initialize_agent(\n",
    "#     agent=AgentType.CONVERSATIONAL_REACT_DESCRIPTION, # need to get the output parser to work!\n",
    "    agent=AgentType.ZERO_SHOT_REACT_DESCRIPTION,\n",
    "    tools=tools,\n",
    "    llm=llm,\n",
    "    verbose=True,\n",
    "    max_iterations=5,\n",
    "#     memory=memory,  # to be used with a CONVERSATIONAL agent.\n",
    "#     handle_parsing_errors=True,\n",
    ")"
   ]
  },
  {
   "cell_type": "code",
   "execution_count": 96,
   "id": "774802e9",
   "metadata": {},
   "outputs": [
    {
     "name": "stdout",
     "output_type": "stream",
     "text": [
      "\n",
      "    You are tasked with finding a downloadable URL link to the most recent sustainability \n",
      "    report of Coca-Cola. Please search the web for this link; checking years 2023, 2022, and\n",
      "    2021 (in that order) until you find one. You may need the scrape Coca-Cola's official site\n",
      "    to find a downloadable link to a report.\n",
      "    \n",
      "    Note: The final output should (where available) be a downloadable url: specifying a path\n",
      "    to the sustainability report.\n",
      "\n",
      "\n",
      "\n",
      "\n",
      "\n",
      "\u001b[1m> Entering new  chain...\u001b[0m\n",
      "\u001b[32;1m\u001b[1;3mI need to search for the most recent sustainability report of Coca-Cola. I should start by searching for the report on DuckDuckGo and then scrape the official Coca-Cola website if necessary. I will check the years 2023, 2022, and 2021 in that order until I find a downloadable link.\n",
      "\n",
      "Action: fetch_duckduckgo_results\n",
      "Action Input: \"Coca-Cola sustainability report 2023\"\u001b[0m\n",
      "Observation: \u001b[36;1m\u001b[1;3mSearch Results (sorted based on page rank):\n",
      "URL: 'https://www.coca-colacompany.com/reports/business-and-sustainability-report'Downloadable: FalseDescription: BUSINESS & SUSTAINABILITY REPORT - The Coca-Cola Company; Publication date: April2023Language: English Number of pages: 88 Below is a list of quick links from thereport: 3. Chairman & CEO Message 5. Board of Directors 6. Executive Summary 12.\n",
      "URL: 'https://www.coca-colacompany.com/sustainability'Downloadable: FalseDescription: Sustainability - The Coca-Cola Company; Water Stewardship Water balance is giving back to nature and communities. We go beyond to improve water security where it's needed most. Explore In Our Products We provide high-quality products and cutting edge ingredients sourced sustainably and ethically. Explore Sustainable Agriculture\n",
      "URL: 'https://investors.coca-colacompany.com/sustainability'Downloadable: FalseDescription: Sustainability - The Coca-Cola Company; SustainabilityOur planet matters. We act in ways to create a more sustainable and better shared future. To make a difference in people's lives, communities and our planet by doing business the right way. ViewSustainabilitySocial Impact People matter.\n",
      "URL: 'https://www.coca-colacompany.com/content/dam/journey/us/en/reports/coca-cola-business-and-sustainability-report-2022.pdf'Downloadable: TrueDescription: PDFThe Coca-Cola Company; TheCoca-ColaCompany\n",
      "URL: 'https://investors.coca-colacompany.com/'Downloadable: FalseDescription: The Coca-Cola Company; Latest Financial Results Jul 26,2023• 6:55 AM EDT Q22023Quarterly Results Quarter Ended Jun 30,2023Earnings Release PDF Audio Earnings Webcast Margin Analysis Schedule PDF Transcript\n",
      "Note that when Downloadable is True, the url is a downloadable link, and should not be scraped.\u001b[0m\n",
      "Thought:\u001b[32;1m\u001b[1;3mI found a downloadable link to the Coca-Cola sustainability report for 2022. I will now check the years 2022 and 2021 to see if there are any downloadable links for those years.\n",
      "\n",
      "Action: fetch_duckduckgo_results\n",
      "Action Input: \"Coca-Cola sustainability report 2022\"\u001b[0m\n",
      "Observation: \u001b[36;1m\u001b[1;3mSearch Results (sorted based on page rank):\n",
      "URL: 'https://www.coca-colacompany.com/reports/business-and-sustainability-report'Downloadable: FalseDescription: 2022 Business & Sustainability Report - The Coca-Cola Company; In2022, we continued to build a portfolio of loved beverage brands while building a more sustainable future for our business, communities and planet. We have an opportunity to use our scale to address global challenges and create a force for good.\n",
      "URL: 'https://www.coca-colacompany.com/sustainability'Downloadable: FalseDescription: Sustainability - The Coca-Cola Company; Water Stewardship Water balance is giving back to nature and communities. We go beyond to improve water security where it's needed most. Explore In Our Products We provide high-quality products and cutting edge ingredients sourced sustainably and ethically. Explore Sustainable Agriculture\n",
      "URL: 'https://www.coca-colacompany.com/content/dam/journey/us/en/reports/coca-cola-business-and-sustainability-report-2022-highlights.pdf'Downloadable: TrueDescription: PDFThe Coca-Cola Company 2022 Business & Sustainability Report Highlights; GOAL 1 Achieve 100% regenerative water use across 175 of our facilities, identified as facing high levels of water stress by 2030. GOAL 2 Improve the health of 60 watersheds identified as most critical for our operations and agricultural supply chain by 2030. GOAL 3\n",
      "URL: 'https://www.coca-colacompany.com/content/dam/journey/us/en/reports/coca-cola-business-and-sustainability-report-2022.pdf'Downloadable: TrueDescription: PDFThe Coca-Cola Company; TheCoca-ColaCompany\n",
      "URL: 'https://investors.coca-colacompany.com/strategy/sustainability'Downloadable: FalseDescription: Sustainability :: The Coca-Cola Company (KO); Overview Vision Growth StrategySustainabilityFinancialsSustainabilityOur planet matters. We act in ways to create a more sustainable and better shared future. To make a difference in people's lives, communities and our planet by doing business the right way. ViewSustainabilitySocial Impact People matter.\n",
      "Note that when Downloadable is True, the url is a downloadable link, and should not be scraped.\u001b[0m\n",
      "Thought:\u001b[32;1m\u001b[1;3mI found a downloadable link to the Coca-Cola sustainability report for 2022. I will now check the year 2021 to see if there are any downloadable links for that year.\n",
      "\n",
      "Action: fetch_duckduckgo_results\n",
      "Action Input: \"Coca-Cola sustainability report 2021\"\u001b[0m\n",
      "Observation: \u001b[36;1m\u001b[1;3mSearch Results (sorted based on page rank):\n",
      "URL: 'https://www.coca-colacompany.com/reports/business-and-sustainability-report'Downloadable: FalseDescription: 2022 Business & Sustainability Report - The Coca-Cola Company; In2021, we launched our Principles for Sustainable Agriculture (PSA) to encourage and guide our suppliers to drive continuous improvement in sustainable farming practices. Our goal is to sustainably and ethically source priority ingredients to increase the resilience of our diverse supply chain, conserve nature and economically empower farmers.\n",
      "URL: 'https://www.coca-colacompany.com/content/dam/journey/us/en/policies/pdf/sustainability/2021-reporting-framework-indexes.pdf'Downloadable: TrueDescription: PDF2021 Reporting Frameworks & SDGs - The Coca-Cola Company; 2021Reporting Frameworks & SDGs In this document, we index the contents of TheCoca-ColaCompany's2021Business & Environmental, Social and GovernanceReportto several important reporting frameworks and standards. We prepared thisreportin accordance with the GRI Standards: Core option.\n",
      "URL: 'https://www.coca-colacompany.com/sustainability'Downloadable: FalseDescription: Sustainability - The Coca-Cola Company; Water Stewardship Water balance is giving back to nature and communities. We go beyond to improve water security where it's needed most. Explore In Our Products We provide high-quality products and cutting edge ingredients sourced sustainably and ethically. Explore Sustainable Agriculture\n",
      "URL: 'https://www.coca-colacompany.com/content/dam/journey/us/en/reports/coca-cola-business-environmental-social-governance-report-2021.pdf'Downloadable: TrueDescription: PDFThe Coca-Cola Company; TheCoca-ColaCompany\n",
      "URL: 'https://www.coca-colacompany.com/reports/world-without-waste-2021'Downloadable: FalseDescription: 2021 World Without Waste | Company Reports - The Coca-Cola Company; Publication Details Publication date: June 2022 Language: English Number of pages: 24 Below is a list of quick links from thereport: 2. Executive Summary 4. Partnering for Impact 6. Design 11. Collect 16. Partner 21. What's Next 22. Assurance Statement\n",
      "Note that when Downloadable is True, the url is a downloadable link, and should not be scraped.\u001b[0m\n",
      "Thought:\u001b[32;1m\u001b[1;3mI found a downloadable link to the Coca-Cola sustainability report for 2021. \n",
      "\n",
      "Final Answer: The most recent downloadable URL link to the sustainability report of Coca-Cola is 'https://www.coca-colacompany.com/content/dam/journey/us/en/reports/coca-cola-business-environmental-social-governance-report-2021.pdf'.\u001b[0m\n",
      "\n",
      "\u001b[1m> Finished chain.\u001b[0m\n"
     ]
    }
   ],
   "source": [
    "# Start the agent - you can use the search template we devised before. \n",
    "example_company = \"Coca-Cola\"\n",
    "print(f\"{search_template.format(company=example_company)}\\n\\n\")\n",
    "result = conversational_agent.run(\n",
    "    search_template.format(company=example_company)\n",
    ")"
   ]
  },
  {
   "cell_type": "code",
   "execution_count": 102,
   "id": "eb9ebd33",
   "metadata": {},
   "outputs": [
    {
     "name": "stdout",
     "output_type": "stream",
     "text": [
      "\n",
      "    You are tasked with finding a downloadable URL link to the most recent FULL sustainability \n",
      "    report of Coca-Cola. Please search the web for this link; checking years 2023, 2022, and\n",
      "    2021 (in that order) until you find one. You may need the scrape Coca-Cola's official site\n",
      "    to find a downloadable link to a report.\n",
      "    \n",
      "    Note, the final output should (where available) be a downloadable url, specifying a path\n",
      "    to the sustainability report. Note that as soon as you find a downloadable report you \n",
      "    may stop the search. For instance if you search for the 2023 report, and find a \n",
      "    downloadable link for the company's FULL 2023 report, you should return this url. If \n",
      "    based on a url's description, you think that a longer report may be found on the \n",
      "    web-page, you can check that web-page for downloadable links. This may happen when \n",
      "    a recent executive summary of report is found from a search, but you believe that a FULL report \n",
      "    may be available on a company's web-page. If neither the search not url scraping finds anything \n",
      "    please continue your search with less recent dates.\n",
      "\n",
      "\n",
      "\n",
      "\n",
      "\n",
      "\u001b[1m> Entering new  chain...\u001b[0m\n",
      "\u001b[32;1m\u001b[1;3mI need to search for the most recent FULL sustainability report of Coca-Cola. I should start by searching for the 2023 report and then move on to 2022 and 2021 if necessary. If I find a downloadable link, I can stop the search. If I find a summary or executive report, I can scrape the webpage for downloadable links.\n",
      "\n",
      "Action: fetch_duckduckgo_results\n",
      "Action Input: \"Coca-Cola sustainability report 2023\"\u001b[0m"
     ]
    },
    {
     "name": "stderr",
     "output_type": "stream",
     "text": [
      "Error getting version of chromedriver 115. Retrying with chromedriver 114 (attempt 1/5)\n"
     ]
    },
    {
     "name": "stdout",
     "output_type": "stream",
     "text": [
      "\n",
      "Observation: \u001b[36;1m\u001b[1;3mSearch Results (sorted based on page rank):\n",
      "URL: 'https://www.coca-colacompany.com/reports/business-and-sustainability-report'\n",
      "Downloadable: False\n",
      "Description: 2022 Business & Sustainability Report - The Coca-Cola Company; Publication Details Publication date: April2023Language: English Number of pages: 88 Below is a list of quick links from thereport: 3. Chairman & CEO Message 5. Board of Directors 6. Executive Summary 12.\n",
      "\n",
      "\n",
      "URL: 'https://www.coca-colacompany.com/sustainability'\n",
      "Downloadable: False\n",
      "Description: Sustainability - The Coca-Cola Company; Water Stewardship Water balance is giving back to nature and communities. We go beyond to improve water security where it's needed most. Explore In Our Products We provide high-quality products and cutting edge ingredients sourced sustainably and ethically. Explore Sustainable Agriculture\n",
      "\n",
      "\n",
      "URL: 'https://www.coca-colacompany.com/content/dam/journey/us/en/reports/coca-cola-business-and-sustainability-report-2022.pdf'\n",
      "Downloadable: True\n",
      "Description: PDFThe Coca-Cola Company; TheCoca-ColaCompany\n",
      "\n",
      "\n",
      "URL: 'https://investors.coca-colacompany.com/sustainability'\n",
      "Downloadable: False\n",
      "Description: Sustainability :: The Coca-Cola Company (KO); Sustainable Packaging Climate Policies, Practices &ReportsSustainabilityOur planet matters. We act in ways to create a more sustainable and better shared future. To make a difference in people's lives, communities and our planet by doing business the right way. ViewSustainabilitySocial Impact People matter.\n",
      "\n",
      "\n",
      "URL: 'https://investors.coca-colacompany.com/'\n",
      "Downloadable: False\n",
      "Description: Investor Relations :: The Coca-Cola Company (KO); Latest Financial Results Jul 26,2023• 6:55 AM EDT Q22023Quarterly Results Quarter Ended Jun 30,2023Earnings Release PDF Audio Earnings Webcast Margin Analysis Schedule PDF Transcript PDF Audio MP3 dbAccess Global Consumer Conference Jun 8,2023• 5:00 am EDT View Event Transcript PDF Audio Webcast Latest Financial Results\n",
      "\n",
      "\n",
      "\n",
      "Note that when Downloadable is True, the url is a downloadable link and should not be scraped.\u001b[0m\n",
      "Thought:\u001b[32;1m\u001b[1;3mI found a downloadable link for the 2023 sustainability report on the Coca-Cola website. I can stop the search and use this link.\n",
      "\n",
      "Final Answer: The most recent FULL sustainability report of Coca-Cola can be found at the following downloadable URL: 'https://www.coca-colacompany.com/content/dam/journey/us/en/reports/coca-cola-business-and-sustainability-report-2022.pdf'\u001b[0m\n",
      "\n",
      "\u001b[1m> Finished chain.\u001b[0m\n"
     ]
    }
   ],
   "source": [
    "# lets repeat the experiment but with a different prompt:\n",
    "search_template = \"\"\"\n",
    "    You are tasked with finding a downloadable URL link to the most recent FULL sustainability \n",
    "    report of {company}. Please search the web for this link; checking years 2023, 2022, and\n",
    "    2021 (in that order) until you find one. You may need the scrape {company}'s official site\n",
    "    to find a downloadable link to a report.\n",
    "    \n",
    "    Note, the final output should (where available) be a downloadable url, specifying a path\n",
    "    to the sustainability report. Note that as soon as you find a downloadable report you \n",
    "    may stop the search. For instance if you search for the 2023 report, and find a \n",
    "    downloadable link for the company's FULL 2023 report, you should return this url. If \n",
    "    based on a url's description, you think that a longer report may be found on the \n",
    "    web-page, you can check that web-page for downloadable links. This may happen when \n",
    "    a recent executive summary of report is found from a search, but you believe that a FULL report \n",
    "    may be available on a company's web-page. If neither the search not url scraping finds anything \n",
    "    please continue your search with less recent dates.\n",
    "\"\"\"\n",
    "\n",
    "example_company = \"Coca-Cola\"\n",
    "print(f\"{search_template.format(company=example_company)}\\n\\n\")\n",
    "result = conversational_agent.run(\n",
    "    search_template.format(company=example_company)\n",
    ")"
   ]
  },
  {
   "cell_type": "code",
   "execution_count": 103,
   "id": "cf87d9c0",
   "metadata": {},
   "outputs": [
    {
     "name": "stdout",
     "output_type": "stream",
     "text": [
      "\n",
      "    Find the most recent FULL sustainability report for Coca-Cola from years 2023, 2022, or 2021. \n",
      "    Prioritize downloadable URL links, searching in the given yearly order. \n",
      "    If you encounter a summary, consider checking the company's official website for the full report.\n",
      "    Return the first full report URL you find.\n",
      "\n",
      "\n",
      "\n",
      "\n",
      "\n",
      "\u001b[1m> Entering new  chain...\u001b[0m\n",
      "\u001b[32;1m\u001b[1;3mI need to search for the sustainability reports for Coca-Cola from the years 2023, 2022, and 2021. I should prioritize downloadable URLs and search in the given yearly order. If I encounter a summary, I should check the company's official website for the full report. I need to return the first full report URL I find.\n",
      "\n",
      "Action: fetch_duckduckgo_results\n",
      "Action Input: \"Coca-Cola sustainability report 2023\"\u001b[0m\n",
      "Observation: \u001b[36;1m\u001b[1;3mSearch Results (sorted based on page rank):\n",
      "URL: 'https://www.coca-colacompany.com/reports/business-and-sustainability-report'\n",
      "Downloadable: False\n",
      "Description: 2022 Business & Sustainability Report - The Coca-Cola Company; Publication Details Publication date: April2023Language: English Number of pages: 88 Below is a list of quick links from thereport: 3. Chairman & CEO Message 5. Board of Directors 6. Executive Summary 12.\n",
      "\n",
      "\n",
      "URL: 'https://www.coca-colacompany.com/sustainability'\n",
      "Downloadable: False\n",
      "Description: Sustainability - The Coca-Cola Company; Water Stewardship Water balance is giving back to nature and communities. We go beyond to improve water security where it's needed most. Explore In Our Products We provide high-quality products and cutting edge ingredients sourced sustainably and ethically. Explore Sustainable Agriculture\n",
      "\n",
      "\n",
      "URL: 'https://investors.coca-colacompany.com/sustainability'\n",
      "Downloadable: False\n",
      "Description: Sustainability :: The Coca-Cola Company (KO); Sustainable Packaging Climate Policies, Practices &ReportsSustainabilityOur planet matters. We act in ways to create a more sustainable and better shared future. To make a difference in people's lives, communities and our planet by doing business the right way. ViewSustainabilitySocial Impact People matter.\n",
      "\n",
      "\n",
      "URL: 'https://www.coca-colacompany.com/content/dam/journey/us/en/reports/coca-cola-business-and-sustainability-report-2022.pdf'\n",
      "Downloadable: True\n",
      "Description: PDFThe Coca-Cola Company; TheCoca-ColaCompany\n",
      "\n",
      "\n",
      "URL: 'https://www.coca-colacompany.com/media-center/coca-cola-reports-second-quarter-2023-results'\n",
      "Downloadable: False\n",
      "Description: Coca-Cola Reports Second Quarter 2023 Results - The Coca-Cola Company; ATLANTA, July 26,2023- TheCoca‑ColaCompany today reported strong second quarter2023results, showing continued momentum in a dynamic operating environment.\n",
      "\n",
      "\n",
      "\n",
      "Note that when Downloadable is True, the url is a downloadable link and should not be scraped.\u001b[0m\n",
      "Thought:\u001b[32;1m\u001b[1;3mI found a sustainability report for Coca-Cola from 2022 that is downloadable. I should check if it is the full report or just a summary.\n",
      "\n",
      "Action: extract_download_links_from_url\n",
      "Action Input: 'https://www.coca-colacompany.com/content/dam/journey/us/en/reports/coca-cola-business-and-sustainability-report-2022.pdf'\u001b[0mAn error occurred: No connection adapters were found for \"'https://www.coca-colacompany.com/content/dam/journey/us/en/reports/coca-cola-business-and-sustainability-report-2022.pdf'\"\n"
     ]
    },
    {
     "ename": "InvalidSchema",
     "evalue": "No connection adapters were found for \"'https://www.coca-colacompany.com/content/dam/journey/us/en/reports/coca-cola-business-and-sustainability-report-2022.pdf'\"",
     "output_type": "error",
     "traceback": [
      "\u001b[1;31m---------------------------------------------------------------------------\u001b[0m",
      "\u001b[1;31mInvalidSchema\u001b[0m                             Traceback (most recent call last)",
      "Cell \u001b[1;32mIn[103], line 11\u001b[0m\n\u001b[0;32m      9\u001b[0m example_company \u001b[38;5;241m=\u001b[39m \u001b[38;5;124m\"\u001b[39m\u001b[38;5;124mCoca-Cola\u001b[39m\u001b[38;5;124m\"\u001b[39m\n\u001b[0;32m     10\u001b[0m \u001b[38;5;28mprint\u001b[39m(\u001b[38;5;124mf\u001b[39m\u001b[38;5;124m\"\u001b[39m\u001b[38;5;132;01m{\u001b[39;00msearch_template\u001b[38;5;241m.\u001b[39mformat(company\u001b[38;5;241m=\u001b[39mexample_company)\u001b[38;5;132;01m}\u001b[39;00m\u001b[38;5;130;01m\\n\u001b[39;00m\u001b[38;5;130;01m\\n\u001b[39;00m\u001b[38;5;124m\"\u001b[39m)\n\u001b[1;32m---> 11\u001b[0m result \u001b[38;5;241m=\u001b[39m \u001b[43mconversational_agent\u001b[49m\u001b[38;5;241;43m.\u001b[39;49m\u001b[43mrun\u001b[49m\u001b[43m(\u001b[49m\n\u001b[0;32m     12\u001b[0m \u001b[43m    \u001b[49m\u001b[43msearch_template\u001b[49m\u001b[38;5;241;43m.\u001b[39;49m\u001b[43mformat\u001b[49m\u001b[43m(\u001b[49m\u001b[43mcompany\u001b[49m\u001b[38;5;241;43m=\u001b[39;49m\u001b[43mexample_company\u001b[49m\u001b[43m)\u001b[49m\n\u001b[0;32m     13\u001b[0m \u001b[43m)\u001b[49m\n",
      "File \u001b[1;32m~\\AppData\\Local\\pypoetry\\Cache\\virtualenvs\\eyalytics-cpKgxviR-py3.8\\lib\\site-packages\\langchain\\chains\\base.py:290\u001b[0m, in \u001b[0;36mChain.run\u001b[1;34m(self, callbacks, tags, *args, **kwargs)\u001b[0m\n\u001b[0;32m    288\u001b[0m     \u001b[38;5;28;01mif\u001b[39;00m \u001b[38;5;28mlen\u001b[39m(args) \u001b[38;5;241m!=\u001b[39m \u001b[38;5;241m1\u001b[39m:\n\u001b[0;32m    289\u001b[0m         \u001b[38;5;28;01mraise\u001b[39;00m \u001b[38;5;167;01mValueError\u001b[39;00m(\u001b[38;5;124m\"\u001b[39m\u001b[38;5;124m`run` supports only one positional argument.\u001b[39m\u001b[38;5;124m\"\u001b[39m)\n\u001b[1;32m--> 290\u001b[0m     \u001b[38;5;28;01mreturn\u001b[39;00m \u001b[38;5;28;43mself\u001b[39;49m\u001b[43m(\u001b[49m\u001b[43margs\u001b[49m\u001b[43m[\u001b[49m\u001b[38;5;241;43m0\u001b[39;49m\u001b[43m]\u001b[49m\u001b[43m,\u001b[49m\u001b[43m \u001b[49m\u001b[43mcallbacks\u001b[49m\u001b[38;5;241;43m=\u001b[39;49m\u001b[43mcallbacks\u001b[49m\u001b[43m,\u001b[49m\u001b[43m \u001b[49m\u001b[43mtags\u001b[49m\u001b[38;5;241;43m=\u001b[39;49m\u001b[43mtags\u001b[49m\u001b[43m)\u001b[49m[_output_key]\n\u001b[0;32m    292\u001b[0m \u001b[38;5;28;01mif\u001b[39;00m kwargs \u001b[38;5;129;01mand\u001b[39;00m \u001b[38;5;129;01mnot\u001b[39;00m args:\n\u001b[0;32m    293\u001b[0m     \u001b[38;5;28;01mreturn\u001b[39;00m \u001b[38;5;28mself\u001b[39m(kwargs, callbacks\u001b[38;5;241m=\u001b[39mcallbacks, tags\u001b[38;5;241m=\u001b[39mtags)[_output_key]\n",
      "File \u001b[1;32m~\\AppData\\Local\\pypoetry\\Cache\\virtualenvs\\eyalytics-cpKgxviR-py3.8\\lib\\site-packages\\langchain\\chains\\base.py:166\u001b[0m, in \u001b[0;36mChain.__call__\u001b[1;34m(self, inputs, return_only_outputs, callbacks, tags, include_run_info)\u001b[0m\n\u001b[0;32m    164\u001b[0m \u001b[38;5;28;01mexcept\u001b[39;00m (\u001b[38;5;167;01mKeyboardInterrupt\u001b[39;00m, \u001b[38;5;167;01mException\u001b[39;00m) \u001b[38;5;28;01mas\u001b[39;00m e:\n\u001b[0;32m    165\u001b[0m     run_manager\u001b[38;5;241m.\u001b[39mon_chain_error(e)\n\u001b[1;32m--> 166\u001b[0m     \u001b[38;5;28;01mraise\u001b[39;00m e\n\u001b[0;32m    167\u001b[0m run_manager\u001b[38;5;241m.\u001b[39mon_chain_end(outputs)\n\u001b[0;32m    168\u001b[0m final_outputs: Dict[\u001b[38;5;28mstr\u001b[39m, Any] \u001b[38;5;241m=\u001b[39m \u001b[38;5;28mself\u001b[39m\u001b[38;5;241m.\u001b[39mprep_outputs(\n\u001b[0;32m    169\u001b[0m     inputs, outputs, return_only_outputs\n\u001b[0;32m    170\u001b[0m )\n",
      "File \u001b[1;32m~\\AppData\\Local\\pypoetry\\Cache\\virtualenvs\\eyalytics-cpKgxviR-py3.8\\lib\\site-packages\\langchain\\chains\\base.py:160\u001b[0m, in \u001b[0;36mChain.__call__\u001b[1;34m(self, inputs, return_only_outputs, callbacks, tags, include_run_info)\u001b[0m\n\u001b[0;32m    154\u001b[0m run_manager \u001b[38;5;241m=\u001b[39m callback_manager\u001b[38;5;241m.\u001b[39mon_chain_start(\n\u001b[0;32m    155\u001b[0m     dumpd(\u001b[38;5;28mself\u001b[39m),\n\u001b[0;32m    156\u001b[0m     inputs,\n\u001b[0;32m    157\u001b[0m )\n\u001b[0;32m    158\u001b[0m \u001b[38;5;28;01mtry\u001b[39;00m:\n\u001b[0;32m    159\u001b[0m     outputs \u001b[38;5;241m=\u001b[39m (\n\u001b[1;32m--> 160\u001b[0m         \u001b[38;5;28;43mself\u001b[39;49m\u001b[38;5;241;43m.\u001b[39;49m\u001b[43m_call\u001b[49m\u001b[43m(\u001b[49m\u001b[43minputs\u001b[49m\u001b[43m,\u001b[49m\u001b[43m \u001b[49m\u001b[43mrun_manager\u001b[49m\u001b[38;5;241;43m=\u001b[39;49m\u001b[43mrun_manager\u001b[49m\u001b[43m)\u001b[49m\n\u001b[0;32m    161\u001b[0m         \u001b[38;5;28;01mif\u001b[39;00m new_arg_supported\n\u001b[0;32m    162\u001b[0m         \u001b[38;5;28;01melse\u001b[39;00m \u001b[38;5;28mself\u001b[39m\u001b[38;5;241m.\u001b[39m_call(inputs)\n\u001b[0;32m    163\u001b[0m     )\n\u001b[0;32m    164\u001b[0m \u001b[38;5;28;01mexcept\u001b[39;00m (\u001b[38;5;167;01mKeyboardInterrupt\u001b[39;00m, \u001b[38;5;167;01mException\u001b[39;00m) \u001b[38;5;28;01mas\u001b[39;00m e:\n\u001b[0;32m    165\u001b[0m     run_manager\u001b[38;5;241m.\u001b[39mon_chain_error(e)\n",
      "File \u001b[1;32m~\\AppData\\Local\\pypoetry\\Cache\\virtualenvs\\eyalytics-cpKgxviR-py3.8\\lib\\site-packages\\langchain\\agents\\agent.py:987\u001b[0m, in \u001b[0;36mAgentExecutor._call\u001b[1;34m(self, inputs, run_manager)\u001b[0m\n\u001b[0;32m    985\u001b[0m \u001b[38;5;66;03m# We now enter the agent loop (until it returns something).\u001b[39;00m\n\u001b[0;32m    986\u001b[0m \u001b[38;5;28;01mwhile\u001b[39;00m \u001b[38;5;28mself\u001b[39m\u001b[38;5;241m.\u001b[39m_should_continue(iterations, time_elapsed):\n\u001b[1;32m--> 987\u001b[0m     next_step_output \u001b[38;5;241m=\u001b[39m \u001b[38;5;28;43mself\u001b[39;49m\u001b[38;5;241;43m.\u001b[39;49m\u001b[43m_take_next_step\u001b[49m\u001b[43m(\u001b[49m\n\u001b[0;32m    988\u001b[0m \u001b[43m        \u001b[49m\u001b[43mname_to_tool_map\u001b[49m\u001b[43m,\u001b[49m\n\u001b[0;32m    989\u001b[0m \u001b[43m        \u001b[49m\u001b[43mcolor_mapping\u001b[49m\u001b[43m,\u001b[49m\n\u001b[0;32m    990\u001b[0m \u001b[43m        \u001b[49m\u001b[43minputs\u001b[49m\u001b[43m,\u001b[49m\n\u001b[0;32m    991\u001b[0m \u001b[43m        \u001b[49m\u001b[43mintermediate_steps\u001b[49m\u001b[43m,\u001b[49m\n\u001b[0;32m    992\u001b[0m \u001b[43m        \u001b[49m\u001b[43mrun_manager\u001b[49m\u001b[38;5;241;43m=\u001b[39;49m\u001b[43mrun_manager\u001b[49m\u001b[43m,\u001b[49m\n\u001b[0;32m    993\u001b[0m \u001b[43m    \u001b[49m\u001b[43m)\u001b[49m\n\u001b[0;32m    994\u001b[0m     \u001b[38;5;28;01mif\u001b[39;00m \u001b[38;5;28misinstance\u001b[39m(next_step_output, AgentFinish):\n\u001b[0;32m    995\u001b[0m         \u001b[38;5;28;01mreturn\u001b[39;00m \u001b[38;5;28mself\u001b[39m\u001b[38;5;241m.\u001b[39m_return(\n\u001b[0;32m    996\u001b[0m             next_step_output, intermediate_steps, run_manager\u001b[38;5;241m=\u001b[39mrun_manager\n\u001b[0;32m    997\u001b[0m         )\n",
      "File \u001b[1;32m~\\AppData\\Local\\pypoetry\\Cache\\virtualenvs\\eyalytics-cpKgxviR-py3.8\\lib\\site-packages\\langchain\\agents\\agent.py:850\u001b[0m, in \u001b[0;36mAgentExecutor._take_next_step\u001b[1;34m(self, name_to_tool_map, color_mapping, inputs, intermediate_steps, run_manager)\u001b[0m\n\u001b[0;32m    848\u001b[0m         tool_run_kwargs[\u001b[38;5;124m\"\u001b[39m\u001b[38;5;124mllm_prefix\u001b[39m\u001b[38;5;124m\"\u001b[39m] \u001b[38;5;241m=\u001b[39m \u001b[38;5;124m\"\u001b[39m\u001b[38;5;124m\"\u001b[39m\n\u001b[0;32m    849\u001b[0m     \u001b[38;5;66;03m# We then call the tool on the tool input to get an observation\u001b[39;00m\n\u001b[1;32m--> 850\u001b[0m     observation \u001b[38;5;241m=\u001b[39m \u001b[43mtool\u001b[49m\u001b[38;5;241;43m.\u001b[39;49m\u001b[43mrun\u001b[49m\u001b[43m(\u001b[49m\n\u001b[0;32m    851\u001b[0m \u001b[43m        \u001b[49m\u001b[43magent_action\u001b[49m\u001b[38;5;241;43m.\u001b[39;49m\u001b[43mtool_input\u001b[49m\u001b[43m,\u001b[49m\n\u001b[0;32m    852\u001b[0m \u001b[43m        \u001b[49m\u001b[43mverbose\u001b[49m\u001b[38;5;241;43m=\u001b[39;49m\u001b[38;5;28;43mself\u001b[39;49m\u001b[38;5;241;43m.\u001b[39;49m\u001b[43mverbose\u001b[49m\u001b[43m,\u001b[49m\n\u001b[0;32m    853\u001b[0m \u001b[43m        \u001b[49m\u001b[43mcolor\u001b[49m\u001b[38;5;241;43m=\u001b[39;49m\u001b[43mcolor\u001b[49m\u001b[43m,\u001b[49m\n\u001b[0;32m    854\u001b[0m \u001b[43m        \u001b[49m\u001b[43mcallbacks\u001b[49m\u001b[38;5;241;43m=\u001b[39;49m\u001b[43mrun_manager\u001b[49m\u001b[38;5;241;43m.\u001b[39;49m\u001b[43mget_child\u001b[49m\u001b[43m(\u001b[49m\u001b[43m)\u001b[49m\u001b[43m \u001b[49m\u001b[38;5;28;43;01mif\u001b[39;49;00m\u001b[43m \u001b[49m\u001b[43mrun_manager\u001b[49m\u001b[43m \u001b[49m\u001b[38;5;28;43;01melse\u001b[39;49;00m\u001b[43m \u001b[49m\u001b[38;5;28;43;01mNone\u001b[39;49;00m\u001b[43m,\u001b[49m\n\u001b[0;32m    855\u001b[0m \u001b[43m        \u001b[49m\u001b[38;5;241;43m*\u001b[39;49m\u001b[38;5;241;43m*\u001b[39;49m\u001b[43mtool_run_kwargs\u001b[49m\u001b[43m,\u001b[49m\n\u001b[0;32m    856\u001b[0m \u001b[43m    \u001b[49m\u001b[43m)\u001b[49m\n\u001b[0;32m    857\u001b[0m \u001b[38;5;28;01melse\u001b[39;00m:\n\u001b[0;32m    858\u001b[0m     tool_run_kwargs \u001b[38;5;241m=\u001b[39m \u001b[38;5;28mself\u001b[39m\u001b[38;5;241m.\u001b[39magent\u001b[38;5;241m.\u001b[39mtool_run_logging_kwargs()\n",
      "File \u001b[1;32m~\\AppData\\Local\\pypoetry\\Cache\\virtualenvs\\eyalytics-cpKgxviR-py3.8\\lib\\site-packages\\langchain\\tools\\base.py:299\u001b[0m, in \u001b[0;36mBaseTool.run\u001b[1;34m(self, tool_input, verbose, start_color, color, callbacks, **kwargs)\u001b[0m\n\u001b[0;32m    297\u001b[0m \u001b[38;5;28;01mexcept\u001b[39;00m (\u001b[38;5;167;01mException\u001b[39;00m, \u001b[38;5;167;01mKeyboardInterrupt\u001b[39;00m) \u001b[38;5;28;01mas\u001b[39;00m e:\n\u001b[0;32m    298\u001b[0m     run_manager\u001b[38;5;241m.\u001b[39mon_tool_error(e)\n\u001b[1;32m--> 299\u001b[0m     \u001b[38;5;28;01mraise\u001b[39;00m e\n\u001b[0;32m    300\u001b[0m \u001b[38;5;28;01melse\u001b[39;00m:\n\u001b[0;32m    301\u001b[0m     run_manager\u001b[38;5;241m.\u001b[39mon_tool_end(\n\u001b[0;32m    302\u001b[0m         \u001b[38;5;28mstr\u001b[39m(observation), color\u001b[38;5;241m=\u001b[39mcolor, name\u001b[38;5;241m=\u001b[39m\u001b[38;5;28mself\u001b[39m\u001b[38;5;241m.\u001b[39mname, \u001b[38;5;241m*\u001b[39m\u001b[38;5;241m*\u001b[39mkwargs\n\u001b[0;32m    303\u001b[0m     )\n",
      "File \u001b[1;32m~\\AppData\\Local\\pypoetry\\Cache\\virtualenvs\\eyalytics-cpKgxviR-py3.8\\lib\\site-packages\\langchain\\tools\\base.py:273\u001b[0m, in \u001b[0;36mBaseTool.run\u001b[1;34m(self, tool_input, verbose, start_color, color, callbacks, **kwargs)\u001b[0m\n\u001b[0;32m    268\u001b[0m \u001b[38;5;28;01mtry\u001b[39;00m:\n\u001b[0;32m    269\u001b[0m     tool_args, tool_kwargs \u001b[38;5;241m=\u001b[39m \u001b[38;5;28mself\u001b[39m\u001b[38;5;241m.\u001b[39m_to_args_and_kwargs(parsed_input)\n\u001b[0;32m    270\u001b[0m     observation \u001b[38;5;241m=\u001b[39m (\n\u001b[0;32m    271\u001b[0m         \u001b[38;5;28mself\u001b[39m\u001b[38;5;241m.\u001b[39m_run(\u001b[38;5;241m*\u001b[39mtool_args, run_manager\u001b[38;5;241m=\u001b[39mrun_manager, \u001b[38;5;241m*\u001b[39m\u001b[38;5;241m*\u001b[39mtool_kwargs)\n\u001b[0;32m    272\u001b[0m         \u001b[38;5;28;01mif\u001b[39;00m new_arg_supported\n\u001b[1;32m--> 273\u001b[0m         \u001b[38;5;28;01melse\u001b[39;00m \u001b[38;5;28;43mself\u001b[39;49m\u001b[38;5;241;43m.\u001b[39;49m\u001b[43m_run\u001b[49m\u001b[43m(\u001b[49m\u001b[38;5;241;43m*\u001b[39;49m\u001b[43mtool_args\u001b[49m\u001b[43m,\u001b[49m\u001b[43m \u001b[49m\u001b[38;5;241;43m*\u001b[39;49m\u001b[38;5;241;43m*\u001b[39;49m\u001b[43mtool_kwargs\u001b[49m\u001b[43m)\u001b[49m\n\u001b[0;32m    274\u001b[0m     )\n\u001b[0;32m    275\u001b[0m \u001b[38;5;28;01mexcept\u001b[39;00m ToolException \u001b[38;5;28;01mas\u001b[39;00m e:\n\u001b[0;32m    276\u001b[0m     \u001b[38;5;28;01mif\u001b[39;00m \u001b[38;5;129;01mnot\u001b[39;00m \u001b[38;5;28mself\u001b[39m\u001b[38;5;241m.\u001b[39mhandle_tool_error:\n",
      "Cell \u001b[1;32mIn[94], line 68\u001b[0m, in \u001b[0;36mURLScraper._run\u001b[1;34m(self, url)\u001b[0m\n\u001b[0;32m     67\u001b[0m \u001b[38;5;28;01mdef\u001b[39;00m \u001b[38;5;21m_run\u001b[39m(\u001b[38;5;28mself\u001b[39m, url: \u001b[38;5;28mstr\u001b[39m) \u001b[38;5;241m-\u001b[39m\u001b[38;5;241m>\u001b[39m \u001b[38;5;28mbool\u001b[39m:\n\u001b[1;32m---> 68\u001b[0m     scrape_results \u001b[38;5;241m=\u001b[39m \u001b[43mextract_download_links_from_url\u001b[49m\u001b[43m(\u001b[49m\u001b[43murl\u001b[49m\u001b[43m)\u001b[49m\n\u001b[0;32m     69\u001b[0m     \u001b[38;5;28;01mreturn\u001b[39;00m format_url_scrape_results(url, scrape_results)\n",
      "Cell \u001b[1;32mIn[100], line 141\u001b[0m, in \u001b[0;36mextract_download_links_from_url\u001b[1;34m(url)\u001b[0m\n\u001b[0;32m    138\u001b[0m \u001b[38;5;28;01mif\u001b[39;00m is_downloadable(url):\n\u001b[0;32m    139\u001b[0m     \u001b[38;5;28;01mreturn\u001b[39;00m [{\u001b[38;5;124m'\u001b[39m\u001b[38;5;124mdescription\u001b[39m\u001b[38;5;124m'\u001b[39m: \u001b[38;5;28;01mNone\u001b[39;00m, \u001b[38;5;124m'\u001b[39m\u001b[38;5;124mlink\u001b[39m\u001b[38;5;124m'\u001b[39m: \u001b[38;5;28;01mNone\u001b[39;00m}]\n\u001b[1;32m--> 141\u001b[0m response \u001b[38;5;241m=\u001b[39m \u001b[43mrequests\u001b[49m\u001b[38;5;241;43m.\u001b[39;49m\u001b[43mget\u001b[49m\u001b[43m(\u001b[49m\u001b[43murl\u001b[49m\u001b[43m)\u001b[49m\n\u001b[0;32m    142\u001b[0m soup \u001b[38;5;241m=\u001b[39m BeautifulSoup(response\u001b[38;5;241m.\u001b[39mcontent, \u001b[38;5;124m'\u001b[39m\u001b[38;5;124mhtml.parser\u001b[39m\u001b[38;5;124m'\u001b[39m)\n\u001b[0;32m    143\u001b[0m anchors \u001b[38;5;241m=\u001b[39m soup\u001b[38;5;241m.\u001b[39mfind_all(\u001b[38;5;124m'\u001b[39m\u001b[38;5;124ma\u001b[39m\u001b[38;5;124m'\u001b[39m, href\u001b[38;5;241m=\u001b[39m\u001b[38;5;28;01mTrue\u001b[39;00m)\n",
      "File \u001b[1;32m~\\AppData\\Local\\pypoetry\\Cache\\virtualenvs\\eyalytics-cpKgxviR-py3.8\\lib\\site-packages\\requests\\api.py:73\u001b[0m, in \u001b[0;36mget\u001b[1;34m(url, params, **kwargs)\u001b[0m\n\u001b[0;32m     62\u001b[0m \u001b[38;5;28;01mdef\u001b[39;00m \u001b[38;5;21mget\u001b[39m(url, params\u001b[38;5;241m=\u001b[39m\u001b[38;5;28;01mNone\u001b[39;00m, \u001b[38;5;241m*\u001b[39m\u001b[38;5;241m*\u001b[39mkwargs):\n\u001b[0;32m     63\u001b[0m \u001b[38;5;250m    \u001b[39m\u001b[38;5;124mr\u001b[39m\u001b[38;5;124;03m\"\"\"Sends a GET request.\u001b[39;00m\n\u001b[0;32m     64\u001b[0m \n\u001b[0;32m     65\u001b[0m \u001b[38;5;124;03m    :param url: URL for the new :class:`Request` object.\u001b[39;00m\n\u001b[1;32m   (...)\u001b[0m\n\u001b[0;32m     70\u001b[0m \u001b[38;5;124;03m    :rtype: requests.Response\u001b[39;00m\n\u001b[0;32m     71\u001b[0m \u001b[38;5;124;03m    \"\"\"\u001b[39;00m\n\u001b[1;32m---> 73\u001b[0m     \u001b[38;5;28;01mreturn\u001b[39;00m \u001b[43mrequest\u001b[49m\u001b[43m(\u001b[49m\u001b[38;5;124;43m\"\u001b[39;49m\u001b[38;5;124;43mget\u001b[39;49m\u001b[38;5;124;43m\"\u001b[39;49m\u001b[43m,\u001b[49m\u001b[43m \u001b[49m\u001b[43murl\u001b[49m\u001b[43m,\u001b[49m\u001b[43m \u001b[49m\u001b[43mparams\u001b[49m\u001b[38;5;241;43m=\u001b[39;49m\u001b[43mparams\u001b[49m\u001b[43m,\u001b[49m\u001b[43m \u001b[49m\u001b[38;5;241;43m*\u001b[39;49m\u001b[38;5;241;43m*\u001b[39;49m\u001b[43mkwargs\u001b[49m\u001b[43m)\u001b[49m\n",
      "File \u001b[1;32m~\\AppData\\Local\\pypoetry\\Cache\\virtualenvs\\eyalytics-cpKgxviR-py3.8\\lib\\site-packages\\requests\\api.py:59\u001b[0m, in \u001b[0;36mrequest\u001b[1;34m(method, url, **kwargs)\u001b[0m\n\u001b[0;32m     55\u001b[0m \u001b[38;5;66;03m# By using the 'with' statement we are sure the session is closed, thus we\u001b[39;00m\n\u001b[0;32m     56\u001b[0m \u001b[38;5;66;03m# avoid leaving sockets open which can trigger a ResourceWarning in some\u001b[39;00m\n\u001b[0;32m     57\u001b[0m \u001b[38;5;66;03m# cases, and look like a memory leak in others.\u001b[39;00m\n\u001b[0;32m     58\u001b[0m \u001b[38;5;28;01mwith\u001b[39;00m sessions\u001b[38;5;241m.\u001b[39mSession() \u001b[38;5;28;01mas\u001b[39;00m session:\n\u001b[1;32m---> 59\u001b[0m     \u001b[38;5;28;01mreturn\u001b[39;00m \u001b[43msession\u001b[49m\u001b[38;5;241;43m.\u001b[39;49m\u001b[43mrequest\u001b[49m\u001b[43m(\u001b[49m\u001b[43mmethod\u001b[49m\u001b[38;5;241;43m=\u001b[39;49m\u001b[43mmethod\u001b[49m\u001b[43m,\u001b[49m\u001b[43m \u001b[49m\u001b[43murl\u001b[49m\u001b[38;5;241;43m=\u001b[39;49m\u001b[43murl\u001b[49m\u001b[43m,\u001b[49m\u001b[43m \u001b[49m\u001b[38;5;241;43m*\u001b[39;49m\u001b[38;5;241;43m*\u001b[39;49m\u001b[43mkwargs\u001b[49m\u001b[43m)\u001b[49m\n",
      "File \u001b[1;32m~\\AppData\\Local\\pypoetry\\Cache\\virtualenvs\\eyalytics-cpKgxviR-py3.8\\lib\\site-packages\\requests\\sessions.py:589\u001b[0m, in \u001b[0;36mSession.request\u001b[1;34m(self, method, url, params, data, headers, cookies, files, auth, timeout, allow_redirects, proxies, hooks, stream, verify, cert, json)\u001b[0m\n\u001b[0;32m    584\u001b[0m send_kwargs \u001b[38;5;241m=\u001b[39m {\n\u001b[0;32m    585\u001b[0m     \u001b[38;5;124m\"\u001b[39m\u001b[38;5;124mtimeout\u001b[39m\u001b[38;5;124m\"\u001b[39m: timeout,\n\u001b[0;32m    586\u001b[0m     \u001b[38;5;124m\"\u001b[39m\u001b[38;5;124mallow_redirects\u001b[39m\u001b[38;5;124m\"\u001b[39m: allow_redirects,\n\u001b[0;32m    587\u001b[0m }\n\u001b[0;32m    588\u001b[0m send_kwargs\u001b[38;5;241m.\u001b[39mupdate(settings)\n\u001b[1;32m--> 589\u001b[0m resp \u001b[38;5;241m=\u001b[39m \u001b[38;5;28;43mself\u001b[39;49m\u001b[38;5;241;43m.\u001b[39;49m\u001b[43msend\u001b[49m\u001b[43m(\u001b[49m\u001b[43mprep\u001b[49m\u001b[43m,\u001b[49m\u001b[43m \u001b[49m\u001b[38;5;241;43m*\u001b[39;49m\u001b[38;5;241;43m*\u001b[39;49m\u001b[43msend_kwargs\u001b[49m\u001b[43m)\u001b[49m\n\u001b[0;32m    591\u001b[0m \u001b[38;5;28;01mreturn\u001b[39;00m resp\n",
      "Cell \u001b[1;32mIn[2], line 12\u001b[0m, in \u001b[0;36mnew_send\u001b[1;34m(*args, **kwargs)\u001b[0m\n\u001b[0;32m     10\u001b[0m \u001b[38;5;28;01mdef\u001b[39;00m \u001b[38;5;21mnew_send\u001b[39m(\u001b[38;5;241m*\u001b[39margs, \u001b[38;5;241m*\u001b[39m\u001b[38;5;241m*\u001b[39mkwargs):\n\u001b[0;32m     11\u001b[0m     kwargs[\u001b[38;5;124m'\u001b[39m\u001b[38;5;124mverify\u001b[39m\u001b[38;5;124m'\u001b[39m] \u001b[38;5;241m=\u001b[39m \u001b[38;5;28;01mFalse\u001b[39;00m\n\u001b[1;32m---> 12\u001b[0m     \u001b[38;5;28;01mreturn\u001b[39;00m \u001b[43mold_send\u001b[49m\u001b[43m(\u001b[49m\u001b[38;5;241;43m*\u001b[39;49m\u001b[43margs\u001b[49m\u001b[43m,\u001b[49m\u001b[43m \u001b[49m\u001b[38;5;241;43m*\u001b[39;49m\u001b[38;5;241;43m*\u001b[39;49m\u001b[43mkwargs\u001b[49m\u001b[43m)\u001b[49m\n",
      "File \u001b[1;32m~\\AppData\\Local\\pypoetry\\Cache\\virtualenvs\\eyalytics-cpKgxviR-py3.8\\lib\\site-packages\\requests\\sessions.py:697\u001b[0m, in \u001b[0;36mSession.send\u001b[1;34m(self, request, **kwargs)\u001b[0m\n\u001b[0;32m    694\u001b[0m hooks \u001b[38;5;241m=\u001b[39m request\u001b[38;5;241m.\u001b[39mhooks\n\u001b[0;32m    696\u001b[0m \u001b[38;5;66;03m# Get the appropriate adapter to use\u001b[39;00m\n\u001b[1;32m--> 697\u001b[0m adapter \u001b[38;5;241m=\u001b[39m \u001b[38;5;28;43mself\u001b[39;49m\u001b[38;5;241;43m.\u001b[39;49m\u001b[43mget_adapter\u001b[49m\u001b[43m(\u001b[49m\u001b[43murl\u001b[49m\u001b[38;5;241;43m=\u001b[39;49m\u001b[43mrequest\u001b[49m\u001b[38;5;241;43m.\u001b[39;49m\u001b[43murl\u001b[49m\u001b[43m)\u001b[49m\n\u001b[0;32m    699\u001b[0m \u001b[38;5;66;03m# Start time (approximately) of the request\u001b[39;00m\n\u001b[0;32m    700\u001b[0m start \u001b[38;5;241m=\u001b[39m preferred_clock()\n",
      "File \u001b[1;32m~\\AppData\\Local\\pypoetry\\Cache\\virtualenvs\\eyalytics-cpKgxviR-py3.8\\lib\\site-packages\\requests\\sessions.py:794\u001b[0m, in \u001b[0;36mSession.get_adapter\u001b[1;34m(self, url)\u001b[0m\n\u001b[0;32m    791\u001b[0m         \u001b[38;5;28;01mreturn\u001b[39;00m adapter\n\u001b[0;32m    793\u001b[0m \u001b[38;5;66;03m# Nothing matches :-/\u001b[39;00m\n\u001b[1;32m--> 794\u001b[0m \u001b[38;5;28;01mraise\u001b[39;00m InvalidSchema(\u001b[38;5;124mf\u001b[39m\u001b[38;5;124m\"\u001b[39m\u001b[38;5;124mNo connection adapters were found for \u001b[39m\u001b[38;5;132;01m{\u001b[39;00murl\u001b[38;5;132;01m!r}\u001b[39;00m\u001b[38;5;124m\"\u001b[39m)\n",
      "\u001b[1;31mInvalidSchema\u001b[0m: No connection adapters were found for \"'https://www.coca-colacompany.com/content/dam/journey/us/en/reports/coca-cola-business-and-sustainability-report-2022.pdf'\""
     ]
    }
   ],
   "source": [
    "# final try with a prompt designed by chatgpt:\n",
    "search_template = \"\"\"\n",
    "    Find the most recent FULL sustainability report for {company} from years 2023, 2022, or 2021. \n",
    "    Prioritize downloadable URL links, searching in the given yearly order. \n",
    "    If you encounter a summary, consider checking the company's official website for the full report.\n",
    "    Return the first full report URL you find.\n",
    "\"\"\"\n",
    "\n",
    "example_company = \"Coca-Cola\"\n",
    "print(f\"{search_template.format(company=example_company)}\\n\\n\")\n",
    "result = conversational_agent.run(\n",
    "    search_template.format(company=example_company)\n",
    ")"
   ]
  },
  {
   "cell_type": "markdown",
   "id": "2a55677f",
   "metadata": {},
   "source": [
    "## ESG KPI Extraction:"
   ]
  },
  {
   "cell_type": "code",
   "execution_count": null,
   "id": "ff4fff77",
   "metadata": {},
   "outputs": [],
   "source": [
    "#### PDF Loader:\n",
    "Start by loading a pdf into memory. "
   ]
  },
  {
   "cell_type": "code",
   "execution_count": null,
   "id": "7c8985f3",
   "metadata": {},
   "outputs": [],
   "source": [
    "# Import os to set API key\n",
    "import os\n",
    "# Import OpenAI as main LLM service\n",
    "from langchain.llms import OpenAI\n",
    "from langchain.embeddings import OpenAIEmbeddings\n",
    "# Bring in streamlit for UI/app interface\n",
    "import streamlit as st\n",
    "\n",
    "# Import PDF document loaders...there's other ones as well!\n",
    "from langchain.document_loaders import PyPDFLoader\n",
    "# Import chroma as the vector store \n",
    "from langchain.vectorstores import Chroma\n",
    "\n",
    "# Import vector store stuff\n",
    "from langchain.agents.agent_toolkits import (\n",
    "    create_vectorstore_agent,\n",
    "    VectorStoreToolkit,\n",
    "    VectorStoreInfo\n",
    ")\n",
    "\n",
    "# Set APIkey for OpenAI Service\n",
    "# Can sub this out for other LLM providers\n",
    "os.environ['OPENAI_API_KEY'] = 'youropenaiapikeyhere'\n",
    "\n",
    "# Create instance of OpenAI LLM\n",
    "llm = OpenAI(temperature=0.1, verbose=True)\n",
    "embeddings = OpenAIEmbeddings()\n",
    "\n",
    "# Create and load PDF Loader\n",
    "loader = PyPDFLoader('annualreport.pdf')\n",
    "# Split pages from pdf \n",
    "pages = loader.load_and_split()\n",
    "# Load documents into vector database aka ChromaDB\n",
    "store = Chroma.from_documents(pages, embeddings, collection_name='annualreport')\n",
    "\n",
    "# Create vectorstore info object - metadata repo?\n",
    "vectorstore_info = VectorStoreInfo(\n",
    "    name=\"annual_report\",\n",
    "    description=\"a banking annual report as a pdf\",\n",
    "    vectorstore=store\n",
    ")\n",
    "# Convert the document store into a langchain toolkit\n",
    "toolkit = VectorStoreToolkit(vectorstore_info=vectorstore_info)\n",
    "\n",
    "# Add the toolkit to an end-to-end LC\n",
    "agent_executor = create_vectorstore_agent(\n",
    "    llm=llm,\n",
    "    toolkit=toolkit,\n",
    "    verbose=True\n",
    ")\n",
    "st.title('🦜🔗 GPT Investment Banker')\n",
    "# Create a text input box for the user\n",
    "prompt = st.text_input('Input your prompt here')\n",
    "\n",
    "# If the user hits enter\n",
    "if prompt:\n",
    "    # Then pass the prompt to the LLM\n",
    "    response = agent_executor.run(prompt)\n",
    "    # ...and write it out to the screen\n",
    "    st.write(response)\n",
    "\n",
    "    # With a streamlit expander  \n",
    "    with st.expander('Document Similarity Search'):\n",
    "        # Find the relevant pages\n",
    "        search = store.similarity_search_with_score(prompt) \n",
    "        # Write out the firs\n",
    "t \n",
    "        st.write(search[0][0].page_content) \n",
    "Footer\n"
   ]
  }
 ],
 "metadata": {
  "celltoolbar": "Raw Cell Format",
  "kernelspec": {
   "display_name": "Python 3 (ipykernel)",
   "language": "python",
   "name": "python3"
  },
  "language_info": {
   "codemirror_mode": {
    "name": "ipython",
    "version": 3
   },
   "file_extension": ".py",
   "mimetype": "text/x-python",
   "name": "python",
   "nbconvert_exporter": "python",
   "pygments_lexer": "ipython3",
   "version": "3.8.10"
  }
 },
 "nbformat": 4,
 "nbformat_minor": 5
}
