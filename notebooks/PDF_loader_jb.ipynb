{
 "cells": [
  {
   "cell_type": "code",
   "execution_count": 7,
   "metadata": {},
   "outputs": [],
   "source": [
    "from pypdf import PdfReader\n",
    "import camelot"
   ]
  },
  {
   "cell_type": "code",
   "execution_count": 14,
   "metadata": {},
   "outputs": [],
   "source": [
    "report_path = \"../../data/colruyt_annualreport.pdf\""
   ]
  },
  {
   "cell_type": "code",
   "execution_count": 15,
   "metadata": {},
   "outputs": [
    {
     "ename": "OSError",
     "evalue": "Ghostscript is not installed. You can install it using the instructions here: https://camelot-py.readthedocs.io/en/master/user/install-deps.html",
     "output_type": "error",
     "traceback": [
      "\u001b[0;31m---------------------------------------------------------------------------\u001b[0m",
      "\u001b[0;31mOSError\u001b[0m                                   Traceback (most recent call last)",
      "Cell \u001b[0;32mIn[15], line 1\u001b[0m\n\u001b[0;32m----> 1\u001b[0m tables \u001b[38;5;241m=\u001b[39m \u001b[43mcamelot\u001b[49m\u001b[38;5;241;43m.\u001b[39;49m\u001b[43mread_pdf\u001b[49m\u001b[43m(\u001b[49m\u001b[43mreport_path\u001b[49m\u001b[43m)\u001b[49m\n",
      "File \u001b[0;32m~/.pyenv/versions/3.8.12/envs/llm_esg_env/lib/python3.8/site-packages/camelot/io.py:113\u001b[0m, in \u001b[0;36mread_pdf\u001b[0;34m(filepath, pages, password, flavor, suppress_stdout, layout_kwargs, **kwargs)\u001b[0m\n\u001b[1;32m    <a href='file:///Users/jb_vandeneynde/.pyenv/versions/3.8.12/envs/llm_esg_env/lib/python3.8/site-packages/camelot/io.py?line=110'>111</a>\u001b[0m p \u001b[39m=\u001b[39m PDFHandler(filepath, pages\u001b[39m=\u001b[39mpages, password\u001b[39m=\u001b[39mpassword)\n\u001b[1;32m    <a href='file:///Users/jb_vandeneynde/.pyenv/versions/3.8.12/envs/llm_esg_env/lib/python3.8/site-packages/camelot/io.py?line=111'>112</a>\u001b[0m kwargs \u001b[39m=\u001b[39m remove_extra(kwargs, flavor\u001b[39m=\u001b[39mflavor)\n\u001b[0;32m--> <a href='file:///Users/jb_vandeneynde/.pyenv/versions/3.8.12/envs/llm_esg_env/lib/python3.8/site-packages/camelot/io.py?line=112'>113</a>\u001b[0m tables \u001b[39m=\u001b[39m p\u001b[39m.\u001b[39;49mparse(\n\u001b[1;32m    <a href='file:///Users/jb_vandeneynde/.pyenv/versions/3.8.12/envs/llm_esg_env/lib/python3.8/site-packages/camelot/io.py?line=113'>114</a>\u001b[0m     flavor\u001b[39m=\u001b[39;49mflavor,\n\u001b[1;32m    <a href='file:///Users/jb_vandeneynde/.pyenv/versions/3.8.12/envs/llm_esg_env/lib/python3.8/site-packages/camelot/io.py?line=114'>115</a>\u001b[0m     suppress_stdout\u001b[39m=\u001b[39;49msuppress_stdout,\n\u001b[1;32m    <a href='file:///Users/jb_vandeneynde/.pyenv/versions/3.8.12/envs/llm_esg_env/lib/python3.8/site-packages/camelot/io.py?line=115'>116</a>\u001b[0m     layout_kwargs\u001b[39m=\u001b[39;49mlayout_kwargs,\n\u001b[1;32m    <a href='file:///Users/jb_vandeneynde/.pyenv/versions/3.8.12/envs/llm_esg_env/lib/python3.8/site-packages/camelot/io.py?line=116'>117</a>\u001b[0m     \u001b[39m*\u001b[39;49m\u001b[39m*\u001b[39;49mkwargs\n\u001b[1;32m    <a href='file:///Users/jb_vandeneynde/.pyenv/versions/3.8.12/envs/llm_esg_env/lib/python3.8/site-packages/camelot/io.py?line=117'>118</a>\u001b[0m )\n\u001b[1;32m    <a href='file:///Users/jb_vandeneynde/.pyenv/versions/3.8.12/envs/llm_esg_env/lib/python3.8/site-packages/camelot/io.py?line=118'>119</a>\u001b[0m \u001b[39mreturn\u001b[39;00m tables\n",
      "File \u001b[0;32m~/.pyenv/versions/3.8.12/envs/llm_esg_env/lib/python3.8/site-packages/camelot/handlers.py:176\u001b[0m, in \u001b[0;36mPDFHandler.parse\u001b[0;34m(self, flavor, suppress_stdout, layout_kwargs, **kwargs)\u001b[0m\n\u001b[1;32m    <a href='file:///Users/jb_vandeneynde/.pyenv/versions/3.8.12/envs/llm_esg_env/lib/python3.8/site-packages/camelot/handlers.py?line=173'>174</a>\u001b[0m     parser \u001b[39m=\u001b[39m Lattice(\u001b[39m*\u001b[39m\u001b[39m*\u001b[39mkwargs) \u001b[39mif\u001b[39;00m flavor \u001b[39m==\u001b[39m \u001b[39m\"\u001b[39m\u001b[39mlattice\u001b[39m\u001b[39m\"\u001b[39m \u001b[39melse\u001b[39;00m Stream(\u001b[39m*\u001b[39m\u001b[39m*\u001b[39mkwargs)\n\u001b[1;32m    <a href='file:///Users/jb_vandeneynde/.pyenv/versions/3.8.12/envs/llm_esg_env/lib/python3.8/site-packages/camelot/handlers.py?line=174'>175</a>\u001b[0m     \u001b[39mfor\u001b[39;00m p \u001b[39min\u001b[39;00m pages:\n\u001b[0;32m--> <a href='file:///Users/jb_vandeneynde/.pyenv/versions/3.8.12/envs/llm_esg_env/lib/python3.8/site-packages/camelot/handlers.py?line=175'>176</a>\u001b[0m         t \u001b[39m=\u001b[39m parser\u001b[39m.\u001b[39;49mextract_tables(\n\u001b[1;32m    <a href='file:///Users/jb_vandeneynde/.pyenv/versions/3.8.12/envs/llm_esg_env/lib/python3.8/site-packages/camelot/handlers.py?line=176'>177</a>\u001b[0m             p, suppress_stdout\u001b[39m=\u001b[39;49msuppress_stdout, layout_kwargs\u001b[39m=\u001b[39;49mlayout_kwargs\n\u001b[1;32m    <a href='file:///Users/jb_vandeneynde/.pyenv/versions/3.8.12/envs/llm_esg_env/lib/python3.8/site-packages/camelot/handlers.py?line=177'>178</a>\u001b[0m         )\n\u001b[1;32m    <a href='file:///Users/jb_vandeneynde/.pyenv/versions/3.8.12/envs/llm_esg_env/lib/python3.8/site-packages/camelot/handlers.py?line=178'>179</a>\u001b[0m         tables\u001b[39m.\u001b[39mextend(t)\n\u001b[1;32m    <a href='file:///Users/jb_vandeneynde/.pyenv/versions/3.8.12/envs/llm_esg_env/lib/python3.8/site-packages/camelot/handlers.py?line=179'>180</a>\u001b[0m \u001b[39mreturn\u001b[39;00m TableList(\u001b[39msorted\u001b[39m(tables))\n",
      "File \u001b[0;32m~/.pyenv/versions/3.8.12/envs/llm_esg_env/lib/python3.8/site-packages/camelot/parsers/lattice.py:421\u001b[0m, in \u001b[0;36mLattice.extract_tables\u001b[0;34m(self, filename, suppress_stdout, layout_kwargs)\u001b[0m\n\u001b[1;32m    <a href='file:///Users/jb_vandeneynde/.pyenv/versions/3.8.12/envs/llm_esg_env/lib/python3.8/site-packages/camelot/parsers/lattice.py?line=415'>416</a>\u001b[0m         warnings\u001b[39m.\u001b[39mwarn(\n\u001b[1;32m    <a href='file:///Users/jb_vandeneynde/.pyenv/versions/3.8.12/envs/llm_esg_env/lib/python3.8/site-packages/camelot/parsers/lattice.py?line=416'>417</a>\u001b[0m             \u001b[39m\"\u001b[39m\u001b[39mNo tables found on \u001b[39m\u001b[39m{}\u001b[39;00m\u001b[39m\"\u001b[39m\u001b[39m.\u001b[39mformat(os\u001b[39m.\u001b[39mpath\u001b[39m.\u001b[39mbasename(\u001b[39mself\u001b[39m\u001b[39m.\u001b[39mrootname))\n\u001b[1;32m    <a href='file:///Users/jb_vandeneynde/.pyenv/versions/3.8.12/envs/llm_esg_env/lib/python3.8/site-packages/camelot/parsers/lattice.py?line=417'>418</a>\u001b[0m         )\n\u001b[1;32m    <a href='file:///Users/jb_vandeneynde/.pyenv/versions/3.8.12/envs/llm_esg_env/lib/python3.8/site-packages/camelot/parsers/lattice.py?line=418'>419</a>\u001b[0m     \u001b[39mreturn\u001b[39;00m []\n\u001b[0;32m--> <a href='file:///Users/jb_vandeneynde/.pyenv/versions/3.8.12/envs/llm_esg_env/lib/python3.8/site-packages/camelot/parsers/lattice.py?line=420'>421</a>\u001b[0m \u001b[39mself\u001b[39;49m\u001b[39m.\u001b[39;49mbackend\u001b[39m.\u001b[39;49mconvert(\u001b[39mself\u001b[39;49m\u001b[39m.\u001b[39;49mfilename, \u001b[39mself\u001b[39;49m\u001b[39m.\u001b[39;49mimagename)\n\u001b[1;32m    <a href='file:///Users/jb_vandeneynde/.pyenv/versions/3.8.12/envs/llm_esg_env/lib/python3.8/site-packages/camelot/parsers/lattice.py?line=422'>423</a>\u001b[0m \u001b[39mself\u001b[39m\u001b[39m.\u001b[39m_generate_table_bbox()\n\u001b[1;32m    <a href='file:///Users/jb_vandeneynde/.pyenv/versions/3.8.12/envs/llm_esg_env/lib/python3.8/site-packages/camelot/parsers/lattice.py?line=424'>425</a>\u001b[0m _tables \u001b[39m=\u001b[39m []\n",
      "File \u001b[0;32m~/.pyenv/versions/3.8.12/envs/llm_esg_env/lib/python3.8/site-packages/camelot/backends/ghostscript_backend.py:31\u001b[0m, in \u001b[0;36mGhostscriptBackend.convert\u001b[0;34m(self, pdf_path, png_path, resolution)\u001b[0m\n\u001b[1;32m     <a href='file:///Users/jb_vandeneynde/.pyenv/versions/3.8.12/envs/llm_esg_env/lib/python3.8/site-packages/camelot/backends/ghostscript_backend.py?line=28'>29</a>\u001b[0m \u001b[39mdef\u001b[39;00m \u001b[39mconvert\u001b[39m(\u001b[39mself\u001b[39m, pdf_path, png_path, resolution\u001b[39m=\u001b[39m\u001b[39m300\u001b[39m):\n\u001b[1;32m     <a href='file:///Users/jb_vandeneynde/.pyenv/versions/3.8.12/envs/llm_esg_env/lib/python3.8/site-packages/camelot/backends/ghostscript_backend.py?line=29'>30</a>\u001b[0m     \u001b[39mif\u001b[39;00m \u001b[39mnot\u001b[39;00m \u001b[39mself\u001b[39m\u001b[39m.\u001b[39minstalled():\n\u001b[0;32m---> <a href='file:///Users/jb_vandeneynde/.pyenv/versions/3.8.12/envs/llm_esg_env/lib/python3.8/site-packages/camelot/backends/ghostscript_backend.py?line=30'>31</a>\u001b[0m         \u001b[39mraise\u001b[39;00m \u001b[39mOSError\u001b[39;00m(\n\u001b[1;32m     <a href='file:///Users/jb_vandeneynde/.pyenv/versions/3.8.12/envs/llm_esg_env/lib/python3.8/site-packages/camelot/backends/ghostscript_backend.py?line=31'>32</a>\u001b[0m             \u001b[39m\"\u001b[39m\u001b[39mGhostscript is not installed. You can install it using the instructions\u001b[39m\u001b[39m\"\u001b[39m\n\u001b[1;32m     <a href='file:///Users/jb_vandeneynde/.pyenv/versions/3.8.12/envs/llm_esg_env/lib/python3.8/site-packages/camelot/backends/ghostscript_backend.py?line=32'>33</a>\u001b[0m             \u001b[39m\"\u001b[39m\u001b[39m here: https://camelot-py.readthedocs.io/en/master/user/install-deps.html\u001b[39m\u001b[39m\"\u001b[39m\n\u001b[1;32m     <a href='file:///Users/jb_vandeneynde/.pyenv/versions/3.8.12/envs/llm_esg_env/lib/python3.8/site-packages/camelot/backends/ghostscript_backend.py?line=33'>34</a>\u001b[0m         )\n\u001b[1;32m     <a href='file:///Users/jb_vandeneynde/.pyenv/versions/3.8.12/envs/llm_esg_env/lib/python3.8/site-packages/camelot/backends/ghostscript_backend.py?line=35'>36</a>\u001b[0m     \u001b[39mimport\u001b[39;00m \u001b[39mghostscript\u001b[39;00m\n\u001b[1;32m     <a href='file:///Users/jb_vandeneynde/.pyenv/versions/3.8.12/envs/llm_esg_env/lib/python3.8/site-packages/camelot/backends/ghostscript_backend.py?line=37'>38</a>\u001b[0m     gs_command \u001b[39m=\u001b[39m [\n\u001b[1;32m     <a href='file:///Users/jb_vandeneynde/.pyenv/versions/3.8.12/envs/llm_esg_env/lib/python3.8/site-packages/camelot/backends/ghostscript_backend.py?line=38'>39</a>\u001b[0m         \u001b[39m\"\u001b[39m\u001b[39mgs\u001b[39m\u001b[39m\"\u001b[39m,\n\u001b[1;32m     <a href='file:///Users/jb_vandeneynde/.pyenv/versions/3.8.12/envs/llm_esg_env/lib/python3.8/site-packages/camelot/backends/ghostscript_backend.py?line=39'>40</a>\u001b[0m         \u001b[39m\"\u001b[39m\u001b[39m-q\u001b[39m\u001b[39m\"\u001b[39m,\n\u001b[0;32m   (...)\u001b[0m\n\u001b[1;32m     <a href='file:///Users/jb_vandeneynde/.pyenv/versions/3.8.12/envs/llm_esg_env/lib/python3.8/site-packages/camelot/backends/ghostscript_backend.py?line=44'>45</a>\u001b[0m         pdf_path,\n\u001b[1;32m     <a href='file:///Users/jb_vandeneynde/.pyenv/versions/3.8.12/envs/llm_esg_env/lib/python3.8/site-packages/camelot/backends/ghostscript_backend.py?line=45'>46</a>\u001b[0m     ]\n",
      "\u001b[0;31mOSError\u001b[0m: Ghostscript is not installed. You can install it using the instructions here: https://camelot-py.readthedocs.io/en/master/user/install-deps.html"
     ]
    }
   ],
   "source": [
    "tables = camelot.read_pdf(report_path)"
   ]
  }
 ],
 "metadata": {
  "interpreter": {
   "hash": "b99c5373b61ce2ad3b538d3e8d82502ab7801c6feda23817c805afcebb135a2e"
  },
  "kernelspec": {
   "display_name": "Python 3.8.12 64-bit ('llm_esg_env')",
   "language": "python",
   "name": "python3"
  },
  "language_info": {
   "codemirror_mode": {
    "name": "ipython",
    "version": 3
   },
   "file_extension": ".py",
   "mimetype": "text/x-python",
   "name": "python",
   "nbconvert_exporter": "python",
   "pygments_lexer": "ipython3",
   "version": "3.8.12"
  },
  "orig_nbformat": 4,
  "vscode": {
   "interpreter": {
    "hash": "b99c5373b61ce2ad3b538d3e8d82502ab7801c6feda23817c805afcebb135a2e"
   }
  }
 },
 "nbformat": 4,
 "nbformat_minor": 2
}
